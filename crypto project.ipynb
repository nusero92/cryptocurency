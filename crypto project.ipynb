{
 "cells": [
  {
   "cell_type": "code",
   "execution_count": 1,
   "id": "7735dbca",
   "metadata": {},
   "outputs": [
    {
     "name": "stdout",
     "output_type": "stream",
     "text": [
      "Requirement already satisfied: tqdm in /home/anamaria/.pyenv/versions/3.10.6/envs/anamaria/lib/python3.10/site-packages (4.64.1)\n",
      "Note: you may need to restart the kernel to use updated packages.\n"
     ]
    }
   ],
   "source": [
    "pip install tqdm\n"
   ]
  },
  {
   "cell_type": "code",
   "execution_count": 2,
   "id": "e8a5a4a7",
   "metadata": {
    "scrolled": true
   },
   "outputs": [
    {
     "name": "stdout",
     "output_type": "stream",
     "text": [
      "Requirement already satisfied: PyPDF2 in /home/anamaria/.pyenv/versions/3.10.6/envs/anamaria/lib/python3.10/site-packages (3.0.1)\n",
      "Note: you may need to restart the kernel to use updated packages.\n"
     ]
    }
   ],
   "source": [
    "pip install PyPDF2\n"
   ]
  },
  {
   "cell_type": "code",
   "execution_count": 3,
   "id": "13897e49",
   "metadata": {
    "scrolled": true
   },
   "outputs": [
    {
     "name": "stdout",
     "output_type": "stream",
     "text": [
      "Requirement already satisfied: pdfminer.six in /home/anamaria/.pyenv/versions/3.10.6/envs/anamaria/lib/python3.10/site-packages (20221105)\n",
      "Requirement already satisfied: charset-normalizer>=2.0.0 in /home/anamaria/.pyenv/versions/3.10.6/envs/anamaria/lib/python3.10/site-packages (from pdfminer.six) (2.1.1)\n",
      "Requirement already satisfied: cryptography>=36.0.0 in /home/anamaria/.pyenv/versions/3.10.6/envs/anamaria/lib/python3.10/site-packages (from pdfminer.six) (41.0.7)\n",
      "Requirement already satisfied: cffi>=1.12 in /home/anamaria/.pyenv/versions/3.10.6/envs/anamaria/lib/python3.10/site-packages (from cryptography>=36.0.0->pdfminer.six) (1.15.1)\n",
      "Requirement already satisfied: pycparser in /home/anamaria/.pyenv/versions/3.10.6/envs/anamaria/lib/python3.10/site-packages (from cffi>=1.12->cryptography>=36.0.0->pdfminer.six) (2.21)\n",
      "Note: you may need to restart the kernel to use updated packages.\n"
     ]
    }
   ],
   "source": [
    "pip install pdfminer.six\n"
   ]
  },
  {
   "cell_type": "code",
   "execution_count": 4,
   "id": "29609dc1",
   "metadata": {},
   "outputs": [],
   "source": [
    "import logging\n",
    "\n",
    "# Configure logging\n",
    "logging.basicConfig(level=logging.INFO, format='%(asctime)s - %(levelname)s - %(message)s')\n"
   ]
  },
  {
   "cell_type": "code",
   "execution_count": 5,
   "id": "ea3c1777",
   "metadata": {},
   "outputs": [],
   "source": [
    "import pandas as pd\n",
    "import numpy as np\n",
    "import os\n",
    "import seaborn as sns\n",
    "import matplotlib.pyplot as plt\n",
    "from datetime import datetime\n",
    "import matplotlib.dates as mdates\n",
    "import PyPDF2\n",
    "import requests\n",
    "from pdfminer.high_level import extract_text"
   ]
  },
  {
   "cell_type": "markdown",
   "id": "86a2af33",
   "metadata": {},
   "source": [
    "## Project definition "
   ]
  },
  {
   "cell_type": "markdown",
   "id": "99a7da7f",
   "metadata": {},
   "source": [
    "Objective:To predict the likelihood of BRICS nations adopting a cryptocurrency based on economic, political, social, and technological indicators.\n",
    "\n",
    "Scope:Analysis of historical data, current policies, economic indicators, and public sentiment regarding cryptocurrencies.\n"
   ]
  },
  {
   "cell_type": "markdown",
   "id": "d9bf4560",
   "metadata": {},
   "source": [
    "## Data collection"
   ]
  },
  {
   "cell_type": "markdown",
   "id": "2dd652bc",
   "metadata": {},
   "source": [
    "What the Data Might Explain:\n",
    "\n",
    "\n",
    "Economic Health and Stability: Strong or volatile economies may have different motivations for adopting cryptocurrency.\n",
    "\n",
    "Regulatory Environment: The extent of regulations could either facilitate or hinder the adoption of cryptocurrencies.\n",
    "\n",
    "Technological Readiness: A higher level of digital infrastructure and literacy may indicate a smoother transition to a digital currency.\n",
    "\n",
    "Public Acceptance: Positive sentiment could be a driving force for adoption, while skepticism or lack of awareness could be major barriers.\n",
    "\n",
    "Cryptocurrency Market Trends: Past and current trends in cryptocurrency usage within BRICS nations can offer insights into future adoption possibilities.\n",
    "\n",
    "Trade Dynamics: A strong inclination for intra-BRICS trade with less reliance on traditional currencies might push towards a unified digital currency solution.\n",
    "\n",
    "This data collection and analysis would provide a multifaceted view of the potential for cryptocurrency adoption in BRICS nations, considering economic, technological, social, and political dimensions."
   ]
  },
  {
   "cell_type": "markdown",
   "id": "9c1a981c",
   "metadata": {},
   "source": [
    "### Economic indicators\n",
    "\n",
    "Data Sources: International Monetary Fund (IMF), World Bank, national statistical offices.\n",
    "\n",
    "Data Points: GDP growth, inflation rates, foreign exchange reserves, financial stability indicators.\n",
    "\n",
    "Purpose: To assess the economic strength and stability of each country, which can influence their readiness or necessity to adopt a cryptocurrency.\n"
   ]
  },
  {
   "cell_type": "markdown",
   "id": "5681ed00",
   "metadata": {},
   "source": [
    "#### GDP growth"
   ]
  },
  {
   "cell_type": "code",
   "execution_count": 6,
   "id": "3917e602",
   "metadata": {},
   "outputs": [
    {
     "data": {
      "text/html": [
       "<div>\n",
       "<style scoped>\n",
       "    .dataframe tbody tr th:only-of-type {\n",
       "        vertical-align: middle;\n",
       "    }\n",
       "\n",
       "    .dataframe tbody tr th {\n",
       "        vertical-align: top;\n",
       "    }\n",
       "\n",
       "    .dataframe thead th {\n",
       "        text-align: right;\n",
       "    }\n",
       "</style>\n",
       "<table border=\"1\" class=\"dataframe\">\n",
       "  <thead>\n",
       "    <tr style=\"text-align: right;\">\n",
       "      <th></th>\n",
       "      <th>WEO Country Code</th>\n",
       "      <th>ISO</th>\n",
       "      <th>WEO Subject Code</th>\n",
       "      <th>Country</th>\n",
       "      <th>Subject Descriptor</th>\n",
       "      <th>...</th>\n",
       "      <th>2025</th>\n",
       "      <th>2026</th>\n",
       "      <th>2027</th>\n",
       "      <th>2028</th>\n",
       "      <th>Estimates Start After</th>\n",
       "    </tr>\n",
       "  </thead>\n",
       "  <tbody>\n",
       "    <tr>\n",
       "      <th>0</th>\n",
       "      <td>512</td>\n",
       "      <td>AFG</td>\n",
       "      <td>NGDP_R</td>\n",
       "      <td>Afghanistan</td>\n",
       "      <td>Gross domestic product, constant prices</td>\n",
       "      <td>...</td>\n",
       "      <td>NaN</td>\n",
       "      <td>NaN</td>\n",
       "      <td>NaN</td>\n",
       "      <td>NaN</td>\n",
       "      <td>2021.0</td>\n",
       "    </tr>\n",
       "    <tr>\n",
       "      <th>1</th>\n",
       "      <td>512</td>\n",
       "      <td>AFG</td>\n",
       "      <td>NGDP_RPCH</td>\n",
       "      <td>Afghanistan</td>\n",
       "      <td>Gross domestic product, constant prices</td>\n",
       "      <td>...</td>\n",
       "      <td>NaN</td>\n",
       "      <td>NaN</td>\n",
       "      <td>NaN</td>\n",
       "      <td>NaN</td>\n",
       "      <td>2021.0</td>\n",
       "    </tr>\n",
       "    <tr>\n",
       "      <th>2</th>\n",
       "      <td>512</td>\n",
       "      <td>AFG</td>\n",
       "      <td>NGDP</td>\n",
       "      <td>Afghanistan</td>\n",
       "      <td>Gross domestic product, current prices</td>\n",
       "      <td>...</td>\n",
       "      <td>NaN</td>\n",
       "      <td>NaN</td>\n",
       "      <td>NaN</td>\n",
       "      <td>NaN</td>\n",
       "      <td>2021.0</td>\n",
       "    </tr>\n",
       "    <tr>\n",
       "      <th>3</th>\n",
       "      <td>512</td>\n",
       "      <td>AFG</td>\n",
       "      <td>NGDPD</td>\n",
       "      <td>Afghanistan</td>\n",
       "      <td>Gross domestic product, current prices</td>\n",
       "      <td>...</td>\n",
       "      <td>NaN</td>\n",
       "      <td>NaN</td>\n",
       "      <td>NaN</td>\n",
       "      <td>NaN</td>\n",
       "      <td>2021.0</td>\n",
       "    </tr>\n",
       "    <tr>\n",
       "      <th>4</th>\n",
       "      <td>512</td>\n",
       "      <td>AFG</td>\n",
       "      <td>PPPGDP</td>\n",
       "      <td>Afghanistan</td>\n",
       "      <td>Gross domestic product, current prices</td>\n",
       "      <td>...</td>\n",
       "      <td>NaN</td>\n",
       "      <td>NaN</td>\n",
       "      <td>NaN</td>\n",
       "      <td>NaN</td>\n",
       "      <td>2021.0</td>\n",
       "    </tr>\n",
       "    <tr>\n",
       "      <th>5</th>\n",
       "      <td>512</td>\n",
       "      <td>AFG</td>\n",
       "      <td>NGDP_D</td>\n",
       "      <td>Afghanistan</td>\n",
       "      <td>Gross domestic product, deflator</td>\n",
       "      <td>...</td>\n",
       "      <td>NaN</td>\n",
       "      <td>NaN</td>\n",
       "      <td>NaN</td>\n",
       "      <td>NaN</td>\n",
       "      <td>2021.0</td>\n",
       "    </tr>\n",
       "    <tr>\n",
       "      <th>6</th>\n",
       "      <td>512</td>\n",
       "      <td>AFG</td>\n",
       "      <td>NGDPRPPPPC</td>\n",
       "      <td>Afghanistan</td>\n",
       "      <td>Gross domestic product per capita, constant pr...</td>\n",
       "      <td>...</td>\n",
       "      <td>NaN</td>\n",
       "      <td>NaN</td>\n",
       "      <td>NaN</td>\n",
       "      <td>NaN</td>\n",
       "      <td>2021.0</td>\n",
       "    </tr>\n",
       "    <tr>\n",
       "      <th>7</th>\n",
       "      <td>512</td>\n",
       "      <td>AFG</td>\n",
       "      <td>NGDPPC</td>\n",
       "      <td>Afghanistan</td>\n",
       "      <td>Gross domestic product per capita, current prices</td>\n",
       "      <td>...</td>\n",
       "      <td>NaN</td>\n",
       "      <td>NaN</td>\n",
       "      <td>NaN</td>\n",
       "      <td>NaN</td>\n",
       "      <td>2021.0</td>\n",
       "    </tr>\n",
       "    <tr>\n",
       "      <th>8</th>\n",
       "      <td>512</td>\n",
       "      <td>AFG</td>\n",
       "      <td>NGDPDPC</td>\n",
       "      <td>Afghanistan</td>\n",
       "      <td>Gross domestic product per capita, current prices</td>\n",
       "      <td>...</td>\n",
       "      <td>NaN</td>\n",
       "      <td>NaN</td>\n",
       "      <td>NaN</td>\n",
       "      <td>NaN</td>\n",
       "      <td>2021.0</td>\n",
       "    </tr>\n",
       "    <tr>\n",
       "      <th>9</th>\n",
       "      <td>512</td>\n",
       "      <td>AFG</td>\n",
       "      <td>PPPPC</td>\n",
       "      <td>Afghanistan</td>\n",
       "      <td>Gross domestic product per capita, current prices</td>\n",
       "      <td>...</td>\n",
       "      <td>NaN</td>\n",
       "      <td>NaN</td>\n",
       "      <td>NaN</td>\n",
       "      <td>NaN</td>\n",
       "      <td>2021.0</td>\n",
       "    </tr>\n",
       "    <tr>\n",
       "      <th>10</th>\n",
       "      <td>512</td>\n",
       "      <td>AFG</td>\n",
       "      <td>NGAP_NPGDP</td>\n",
       "      <td>Afghanistan</td>\n",
       "      <td>Output gap in percent of potential GDP</td>\n",
       "      <td>...</td>\n",
       "      <td>NaN</td>\n",
       "      <td>NaN</td>\n",
       "      <td>NaN</td>\n",
       "      <td>NaN</td>\n",
       "      <td>NaN</td>\n",
       "    </tr>\n",
       "    <tr>\n",
       "      <th>11</th>\n",
       "      <td>512</td>\n",
       "      <td>AFG</td>\n",
       "      <td>PPPSH</td>\n",
       "      <td>Afghanistan</td>\n",
       "      <td>Gross domestic product based on purchasing-pow...</td>\n",
       "      <td>...</td>\n",
       "      <td>NaN</td>\n",
       "      <td>NaN</td>\n",
       "      <td>NaN</td>\n",
       "      <td>NaN</td>\n",
       "      <td>2021.0</td>\n",
       "    </tr>\n",
       "    <tr>\n",
       "      <th>12</th>\n",
       "      <td>512</td>\n",
       "      <td>AFG</td>\n",
       "      <td>PPPEX</td>\n",
       "      <td>Afghanistan</td>\n",
       "      <td>Implied PPP conversion rate</td>\n",
       "      <td>...</td>\n",
       "      <td>NaN</td>\n",
       "      <td>NaN</td>\n",
       "      <td>NaN</td>\n",
       "      <td>NaN</td>\n",
       "      <td>2021.0</td>\n",
       "    </tr>\n",
       "    <tr>\n",
       "      <th>13</th>\n",
       "      <td>512</td>\n",
       "      <td>AFG</td>\n",
       "      <td>NID_NGDP</td>\n",
       "      <td>Afghanistan</td>\n",
       "      <td>Total investment</td>\n",
       "      <td>...</td>\n",
       "      <td>NaN</td>\n",
       "      <td>NaN</td>\n",
       "      <td>NaN</td>\n",
       "      <td>NaN</td>\n",
       "      <td>2021.0</td>\n",
       "    </tr>\n",
       "    <tr>\n",
       "      <th>14</th>\n",
       "      <td>512</td>\n",
       "      <td>AFG</td>\n",
       "      <td>NGSD_NGDP</td>\n",
       "      <td>Afghanistan</td>\n",
       "      <td>Gross national savings</td>\n",
       "      <td>...</td>\n",
       "      <td>NaN</td>\n",
       "      <td>NaN</td>\n",
       "      <td>NaN</td>\n",
       "      <td>NaN</td>\n",
       "      <td>2021.0</td>\n",
       "    </tr>\n",
       "    <tr>\n",
       "      <th>15</th>\n",
       "      <td>512</td>\n",
       "      <td>AFG</td>\n",
       "      <td>PCPI</td>\n",
       "      <td>Afghanistan</td>\n",
       "      <td>Inflation, average consumer prices</td>\n",
       "      <td>...</td>\n",
       "      <td>NaN</td>\n",
       "      <td>NaN</td>\n",
       "      <td>NaN</td>\n",
       "      <td>NaN</td>\n",
       "      <td>2022.0</td>\n",
       "    </tr>\n",
       "    <tr>\n",
       "      <th>16</th>\n",
       "      <td>512</td>\n",
       "      <td>AFG</td>\n",
       "      <td>PCPIPCH</td>\n",
       "      <td>Afghanistan</td>\n",
       "      <td>Inflation, average consumer prices</td>\n",
       "      <td>...</td>\n",
       "      <td>NaN</td>\n",
       "      <td>NaN</td>\n",
       "      <td>NaN</td>\n",
       "      <td>NaN</td>\n",
       "      <td>2022.0</td>\n",
       "    </tr>\n",
       "    <tr>\n",
       "      <th>17</th>\n",
       "      <td>512</td>\n",
       "      <td>AFG</td>\n",
       "      <td>PCPIE</td>\n",
       "      <td>Afghanistan</td>\n",
       "      <td>Inflation, end of period consumer prices</td>\n",
       "      <td>...</td>\n",
       "      <td>NaN</td>\n",
       "      <td>NaN</td>\n",
       "      <td>NaN</td>\n",
       "      <td>NaN</td>\n",
       "      <td>2022.0</td>\n",
       "    </tr>\n",
       "    <tr>\n",
       "      <th>18</th>\n",
       "      <td>512</td>\n",
       "      <td>AFG</td>\n",
       "      <td>PCPIEPCH</td>\n",
       "      <td>Afghanistan</td>\n",
       "      <td>Inflation, end of period consumer prices</td>\n",
       "      <td>...</td>\n",
       "      <td>NaN</td>\n",
       "      <td>NaN</td>\n",
       "      <td>NaN</td>\n",
       "      <td>NaN</td>\n",
       "      <td>2022.0</td>\n",
       "    </tr>\n",
       "    <tr>\n",
       "      <th>19</th>\n",
       "      <td>512</td>\n",
       "      <td>AFG</td>\n",
       "      <td>TM_RPCH</td>\n",
       "      <td>Afghanistan</td>\n",
       "      <td>Volume of imports of goods and services</td>\n",
       "      <td>...</td>\n",
       "      <td>NaN</td>\n",
       "      <td>NaN</td>\n",
       "      <td>NaN</td>\n",
       "      <td>NaN</td>\n",
       "      <td>2022.0</td>\n",
       "    </tr>\n",
       "  </tbody>\n",
       "</table>\n",
       "<p>20 rows × 37 columns</p>\n",
       "</div>"
      ],
      "text/plain": [
       "   WEO Country Code  ISO WEO Subject Code      Country  \\\n",
       "0               512  AFG           NGDP_R  Afghanistan   \n",
       "1               512  AFG        NGDP_RPCH  Afghanistan   \n",
       "2               512  AFG             NGDP  Afghanistan   \n",
       "3               512  AFG            NGDPD  Afghanistan   \n",
       "4               512  AFG           PPPGDP  Afghanistan   \n",
       "5               512  AFG           NGDP_D  Afghanistan   \n",
       "6               512  AFG       NGDPRPPPPC  Afghanistan   \n",
       "7               512  AFG           NGDPPC  Afghanistan   \n",
       "8               512  AFG          NGDPDPC  Afghanistan   \n",
       "9               512  AFG            PPPPC  Afghanistan   \n",
       "10              512  AFG       NGAP_NPGDP  Afghanistan   \n",
       "11              512  AFG            PPPSH  Afghanistan   \n",
       "12              512  AFG            PPPEX  Afghanistan   \n",
       "13              512  AFG         NID_NGDP  Afghanistan   \n",
       "14              512  AFG        NGSD_NGDP  Afghanistan   \n",
       "15              512  AFG             PCPI  Afghanistan   \n",
       "16              512  AFG          PCPIPCH  Afghanistan   \n",
       "17              512  AFG            PCPIE  Afghanistan   \n",
       "18              512  AFG         PCPIEPCH  Afghanistan   \n",
       "19              512  AFG          TM_RPCH  Afghanistan   \n",
       "\n",
       "                                   Subject Descriptor  ... 2025 2026 2027  \\\n",
       "0             Gross domestic product, constant prices  ...  NaN  NaN  NaN   \n",
       "1             Gross domestic product, constant prices  ...  NaN  NaN  NaN   \n",
       "2              Gross domestic product, current prices  ...  NaN  NaN  NaN   \n",
       "3              Gross domestic product, current prices  ...  NaN  NaN  NaN   \n",
       "4              Gross domestic product, current prices  ...  NaN  NaN  NaN   \n",
       "5                    Gross domestic product, deflator  ...  NaN  NaN  NaN   \n",
       "6   Gross domestic product per capita, constant pr...  ...  NaN  NaN  NaN   \n",
       "7   Gross domestic product per capita, current prices  ...  NaN  NaN  NaN   \n",
       "8   Gross domestic product per capita, current prices  ...  NaN  NaN  NaN   \n",
       "9   Gross domestic product per capita, current prices  ...  NaN  NaN  NaN   \n",
       "10             Output gap in percent of potential GDP  ...  NaN  NaN  NaN   \n",
       "11  Gross domestic product based on purchasing-pow...  ...  NaN  NaN  NaN   \n",
       "12                        Implied PPP conversion rate  ...  NaN  NaN  NaN   \n",
       "13                                   Total investment  ...  NaN  NaN  NaN   \n",
       "14                             Gross national savings  ...  NaN  NaN  NaN   \n",
       "15                 Inflation, average consumer prices  ...  NaN  NaN  NaN   \n",
       "16                 Inflation, average consumer prices  ...  NaN  NaN  NaN   \n",
       "17           Inflation, end of period consumer prices  ...  NaN  NaN  NaN   \n",
       "18           Inflation, end of period consumer prices  ...  NaN  NaN  NaN   \n",
       "19            Volume of imports of goods and services  ...  NaN  NaN  NaN   \n",
       "\n",
       "   2028 Estimates Start After  \n",
       "0   NaN                2021.0  \n",
       "1   NaN                2021.0  \n",
       "2   NaN                2021.0  \n",
       "3   NaN                2021.0  \n",
       "4   NaN                2021.0  \n",
       "5   NaN                2021.0  \n",
       "6   NaN                2021.0  \n",
       "7   NaN                2021.0  \n",
       "8   NaN                2021.0  \n",
       "9   NaN                2021.0  \n",
       "10  NaN                   NaN  \n",
       "11  NaN                2021.0  \n",
       "12  NaN                2021.0  \n",
       "13  NaN                2021.0  \n",
       "14  NaN                2021.0  \n",
       "15  NaN                2022.0  \n",
       "16  NaN                2022.0  \n",
       "17  NaN                2022.0  \n",
       "18  NaN                2022.0  \n",
       "19  NaN                2022.0  \n",
       "\n",
       "[20 rows x 37 columns]"
      ]
     },
     "execution_count": 6,
     "metadata": {},
     "output_type": "execute_result"
    }
   ],
   "source": [
    "# Assuming the file is on the Linux filesystem and not a mounted Windows drive\n",
    "file_path = '/home/anamaria/code/nusero92/cryptocurency/Data/GDPOct2023.csv'\n",
    "GDP=pd.read_csv(file_path, delimiter=';')\n",
    "pd.set_option('display.max_columns', 10)\n",
    "GDP.head(20)"
   ]
  },
  {
   "cell_type": "code",
   "execution_count": 7,
   "id": "525b8912",
   "metadata": {
    "scrolled": true
   },
   "outputs": [
    {
     "data": {
      "text/plain": [
       "array(['AFG', 'ALB', 'DZA', 'AND', 'AGO', 'ATG', 'ARG', 'ARM', 'ABW',\n",
       "       'AUS', 'AUT', 'AZE', 'BHS', 'BHR', 'BGD', 'BRB', 'BLR', 'BEL',\n",
       "       'BLZ', 'BEN', 'BTN', 'BOL', 'BIH', 'BWA', 'BRA', 'BRN', 'BGR',\n",
       "       'BFA', 'BDI', 'CPV', 'KHM', 'CMR', 'CAN', 'CAF', 'TCD', 'CHL',\n",
       "       'CHN', 'COL', 'COM', 'COD', 'COG', 'CRI', 'CIV', 'HRV', 'CYP',\n",
       "       'CZE', 'DNK', 'DJI', 'DMA', 'DOM', 'ECU', 'EGY', 'SLV', 'GNQ',\n",
       "       'ERI', 'EST', 'SWZ', 'ETH', 'FJI', 'FIN', 'FRA', 'GAB', 'GMB',\n",
       "       'GEO', 'DEU', 'GHA', 'GRC', 'GRD', 'GTM', 'GIN', 'GNB', 'GUY',\n",
       "       'HTI', 'HND', 'HKG', 'HUN', 'ISL', 'IND', 'IDN', 'IRN', 'IRQ',\n",
       "       'IRL', 'ISR', 'ITA', 'JAM', 'JPN', 'JOR', 'KAZ', 'KEN', 'KIR',\n",
       "       'KOR', 'UVK', 'KWT', 'KGZ', 'LAO', 'LVA', 'LBN', 'LSO', 'LBR',\n",
       "       'LBY', 'LTU', 'LUX', 'MAC', 'MDG', 'MWI', 'MYS', 'MDV', 'MLI',\n",
       "       'MLT', 'MHL', 'MRT', 'MUS', 'MEX', 'FSM', 'MDA', 'MNG', 'MNE',\n",
       "       'MAR', 'MOZ', 'MMR', 'NAM', 'NRU', 'NPL', 'NLD', 'NZL', 'NIC',\n",
       "       'NER', 'NGA', 'MKD', 'NOR', 'OMN', 'PAK', 'PLW', 'PAN', 'PNG',\n",
       "       'PRY', 'PER', 'PHL', 'POL', 'PRT', 'PRI', 'QAT', 'ROU', 'RUS',\n",
       "       'RWA', 'WSM', 'SMR', 'STP', 'SAU', 'SEN', 'SRB', 'SYC', 'SLE',\n",
       "       'SGP', 'SVK', 'SVN', 'SLB', 'SOM', 'ZAF', 'SSD', 'ESP', 'LKA',\n",
       "       'KNA', 'LCA', 'VCT', 'SDN', 'SUR', 'SWE', 'CHE', 'SYR', 'TWN',\n",
       "       'TJK', 'TZA', 'THA', 'TLS', 'TGO', 'TON', 'TTO', 'TUN', 'TUR',\n",
       "       'TKM', 'TUV', 'UGA', 'UKR', 'ARE', 'GBR', 'USA', 'URY', 'UZB',\n",
       "       'VUT', 'VEN', 'VNM', 'WBG', 'YEM', 'ZMB', 'ZWE', nan], dtype=object)"
      ]
     },
     "execution_count": 7,
     "metadata": {},
     "output_type": "execute_result"
    }
   ],
   "source": [
    "GDP[\"ISO\"].unique()"
   ]
  },
  {
   "cell_type": "code",
   "execution_count": 8,
   "id": "c2a30a91",
   "metadata": {
    "scrolled": false
   },
   "outputs": [
    {
     "name": "stdout",
     "output_type": "stream",
     "text": [
      "<class 'pandas.core.frame.DataFrame'>\n",
      "Int64Index: 220 entries, 1055 to 6994\n",
      "Data columns (total 37 columns):\n",
      " #   Column                         Non-Null Count  Dtype  \n",
      "---  ------                         --------------  -----  \n",
      " 0   WEO Country Code               220 non-null    object \n",
      " 1   ISO                            220 non-null    object \n",
      " 2   WEO Subject Code               220 non-null    object \n",
      " 3   Country                        220 non-null    object \n",
      " 4   Subject Descriptor             220 non-null    object \n",
      " 5   Subject Notes                  220 non-null    object \n",
      " 6   Units                          220 non-null    object \n",
      " 7   Scale                          100 non-null    object \n",
      " 8   Country/Series-specific Notes  203 non-null    object \n",
      " 9   2002                           202 non-null    object \n",
      " 10  2003                           202 non-null    object \n",
      " 11  2004                           202 non-null    object \n",
      " 12  2005                           202 non-null    object \n",
      " 13  2006                           202 non-null    object \n",
      " 14  2007                           202 non-null    object \n",
      " 15  2008                           202 non-null    object \n",
      " 16  2009                           202 non-null    object \n",
      " 17  2010                           202 non-null    object \n",
      " 18  2011                           202 non-null    object \n",
      " 19  2012                           202 non-null    object \n",
      " 20  2013                           202 non-null    object \n",
      " 21  2014                           202 non-null    object \n",
      " 22  2015                           202 non-null    object \n",
      " 23  2016                           202 non-null    object \n",
      " 24  2017                           203 non-null    object \n",
      " 25  2018                           203 non-null    object \n",
      " 26  2019                           203 non-null    object \n",
      " 27  2020                           203 non-null    object \n",
      " 28  2021                           203 non-null    object \n",
      " 29  2022                           203 non-null    object \n",
      " 30  2023                           203 non-null    object \n",
      " 31  2024                           203 non-null    object \n",
      " 32  2025                           203 non-null    object \n",
      " 33  2026                           203 non-null    object \n",
      " 34  2027                           203 non-null    object \n",
      " 35  2028                           203 non-null    object \n",
      " 36  Estimates Start After          203 non-null    float64\n",
      "dtypes: float64(1), object(36)\n",
      "memory usage: 65.3+ KB\n"
     ]
    }
   ],
   "source": [
    "GDP_BRICS = GDP[GDP[\"ISO\"].isin([\"BRA\", \"RUS\", \"ZAF\", \"IND\", \"CHN\"])]\n",
    "pd.set_option('display.max_columns', 10)\n",
    "GDP_BRICS.info()"
   ]
  },
  {
   "cell_type": "code",
   "execution_count": 9,
   "id": "0036a745",
   "metadata": {
    "scrolled": false
   },
   "outputs": [
    {
     "data": {
      "text/plain": [
       "(220, 37)"
      ]
     },
     "execution_count": 9,
     "metadata": {},
     "output_type": "execute_result"
    }
   ],
   "source": [
    "GDP_BRICS.shape"
   ]
  },
  {
   "cell_type": "code",
   "execution_count": 10,
   "id": "e4659a07",
   "metadata": {},
   "outputs": [
    {
     "data": {
      "text/plain": [
       "Index(['WEO Country Code', 'ISO', 'WEO Subject Code', 'Country',\n",
       "       'Subject Descriptor', 'Subject Notes', 'Units', 'Scale',\n",
       "       'Country/Series-specific Notes', '2002', '2003', '2004', '2005', '2006',\n",
       "       '2007', '2008', '2009', '2010', '2011', '2012', '2013', '2014', '2015',\n",
       "       '2016', '2017', '2018', '2019', '2020', '2021', '2022', '2023', '2024',\n",
       "       '2025', '2026', '2027', '2028', 'Estimates Start After'],\n",
       "      dtype='object')"
      ]
     },
     "execution_count": 10,
     "metadata": {},
     "output_type": "execute_result"
    }
   ],
   "source": [
    "GDP_BRICS.columns"
   ]
  },
  {
   "cell_type": "markdown",
   "id": "d7c94a20",
   "metadata": {},
   "source": [
    "##### Data cleaning"
   ]
  },
  {
   "cell_type": "code",
   "execution_count": 11,
   "id": "031a739b",
   "metadata": {},
   "outputs": [
    {
     "data": {
      "text/plain": [
       "WEO Country Code                   0\n",
       "ISO                                0\n",
       "WEO Subject Code                   0\n",
       "Country                            0\n",
       "Subject Descriptor                 0\n",
       "Subject Notes                      0\n",
       "Units                              0\n",
       "Scale                            120\n",
       "Country/Series-specific Notes     17\n",
       "2002                              18\n",
       "2003                              18\n",
       "2004                              18\n",
       "2005                              18\n",
       "2006                              18\n",
       "2007                              18\n",
       "2008                              18\n",
       "2009                              18\n",
       "2010                              18\n",
       "2011                              18\n",
       "2012                              18\n",
       "2013                              18\n",
       "2014                              18\n",
       "2015                              18\n",
       "2016                              18\n",
       "2017                              17\n",
       "2018                              17\n",
       "2019                              17\n",
       "2020                              17\n",
       "2021                              17\n",
       "2022                              17\n",
       "2023                              17\n",
       "2024                              17\n",
       "2025                              17\n",
       "2026                              17\n",
       "2027                              17\n",
       "2028                              17\n",
       "Estimates Start After             17\n",
       "dtype: int64"
      ]
     },
     "execution_count": 11,
     "metadata": {},
     "output_type": "execute_result"
    }
   ],
   "source": [
    "GDP_BRICS.isnull().sum()"
   ]
  },
  {
   "cell_type": "code",
   "execution_count": 12,
   "id": "41b7a1ca",
   "metadata": {
    "scrolled": true
   },
   "outputs": [],
   "source": [
    "GDP_BRICS=GDP_BRICS.drop(\"Scale\", axis=1)"
   ]
  },
  {
   "cell_type": "code",
   "execution_count": 13,
   "id": "e2c20fad",
   "metadata": {},
   "outputs": [
    {
     "name": "stdout",
     "output_type": "stream",
     "text": [
      "['Gross domestic product, constant prices'\n",
      " 'Gross domestic product, current prices'\n",
      " 'Gross domestic product, deflator'\n",
      " 'Gross domestic product per capita, constant prices'\n",
      " 'Gross domestic product per capita, current prices'\n",
      " 'Output gap in percent of potential GDP'\n",
      " 'Gross domestic product based on purchasing-power-parity (PPP) share of world total'\n",
      " 'Implied PPP conversion rate' 'Total investment' 'Gross national savings'\n",
      " 'Inflation, average consumer prices'\n",
      " 'Inflation, end of period consumer prices'\n",
      " 'Volume of imports of goods and services' 'Volume of Imports of goods'\n",
      " 'Volume of exports of goods and services' 'Volume of exports of goods'\n",
      " 'Unemployment rate' 'Employment' 'Population'\n",
      " 'General government revenue' 'General government total expenditure'\n",
      " 'General government net lending/borrowing'\n",
      " 'General government structural balance'\n",
      " 'General government primary net lending/borrowing'\n",
      " 'General government net debt' 'General government gross debt'\n",
      " 'Gross domestic product corresponding to fiscal year, current prices'\n",
      " 'Current account balance']\n",
      "28\n"
     ]
    }
   ],
   "source": [
    "subj_desc=GDP_BRICS[\"Subject Descriptor\"].unique()\n",
    "pd.set_option(\"display.max_colwidth\", None)\n",
    "print(subj_desc)\n",
    "print(len(subj_desc))"
   ]
  },
  {
   "cell_type": "code",
   "execution_count": 14,
   "id": "63b1bbdb",
   "metadata": {},
   "outputs": [
    {
     "name": "stdout",
     "output_type": "stream",
     "text": [
      "['NGDP_R', 'NGDP_RPCH', 'NGDP', 'NGDPD', 'PPPGDP', 'NGDP_D', 'NGDPRPC', 'NGDPRPPPPC', 'NGDPPC', 'NGDPDPC', 'PPPPC', 'NGAP_NPGDP', 'PPPSH', 'PPPEX', 'NID_NGDP', 'NGSD_NGDP', 'PCPI', 'PCPIPCH', 'PCPIE', 'PCPIEPCH', 'TM_RPCH', 'TMG_RPCH', 'TX_RPCH', 'TXG_RPCH', 'LUR', 'LE', 'LP', 'GGR', 'GGR_NGDP', 'GGX', 'GGX_NGDP', 'GGXCNL', 'GGXCNL_NGDP', 'GGSB', 'GGSB_NPGDP', 'GGXONLB', 'GGXONLB_NGDP', 'GGXWDN', 'GGXWDN_NGDP', 'GGXWDG', 'GGXWDG_NGDP', 'NGDP_FY', 'BCA', 'BCA_NGDPD']\n"
     ]
    },
    {
     "data": {
      "text/plain": [
       "44"
      ]
     },
     "execution_count": 14,
     "metadata": {},
     "output_type": "execute_result"
    }
   ],
   "source": [
    "codes=GDP_BRICS[\"WEO Subject Code\"].unique()\n",
    "codes=list(codes)\n",
    "print(codes)\n",
    "len(codes)"
   ]
  },
  {
   "cell_type": "code",
   "execution_count": 15,
   "id": "04e561bf",
   "metadata": {
    "scrolled": true
   },
   "outputs": [
    {
     "data": {
      "text/html": [
       "<div>\n",
       "<style scoped>\n",
       "    .dataframe tbody tr th:only-of-type {\n",
       "        vertical-align: middle;\n",
       "    }\n",
       "\n",
       "    .dataframe tbody tr th {\n",
       "        vertical-align: top;\n",
       "    }\n",
       "\n",
       "    .dataframe thead th {\n",
       "        text-align: right;\n",
       "    }\n",
       "</style>\n",
       "<table border=\"1\" class=\"dataframe\">\n",
       "  <thead>\n",
       "    <tr style=\"text-align: right;\">\n",
       "      <th></th>\n",
       "      <th>Country</th>\n",
       "      <th>Units</th>\n",
       "      <th>2002</th>\n",
       "      <th>2003</th>\n",
       "      <th>2004</th>\n",
       "      <th>...</th>\n",
       "      <th>2019</th>\n",
       "      <th>2020</th>\n",
       "      <th>2021</th>\n",
       "      <th>2022</th>\n",
       "      <th>2023</th>\n",
       "    </tr>\n",
       "  </thead>\n",
       "  <tbody>\n",
       "    <tr>\n",
       "      <th>1055</th>\n",
       "      <td>Brazil</td>\n",
       "      <td>National currency</td>\n",
       "      <td>820.328</td>\n",
       "      <td>829.688</td>\n",
       "      <td>877.477</td>\n",
       "      <td>...</td>\n",
       "      <td>1,204.17</td>\n",
       "      <td>1,164.71</td>\n",
       "      <td>1,222.82</td>\n",
       "      <td>1,258.29</td>\n",
       "      <td>1,297.09</td>\n",
       "    </tr>\n",
       "    <tr>\n",
       "      <th>1583</th>\n",
       "      <td>China</td>\n",
       "      <td>National currency</td>\n",
       "      <td>20,514.56</td>\n",
       "      <td>22,570.42</td>\n",
       "      <td>24,853.26</td>\n",
       "      <td>...</td>\n",
       "      <td>89,451.02</td>\n",
       "      <td>91,456.54</td>\n",
       "      <td>99,184.26</td>\n",
       "      <td>102,148.67</td>\n",
       "      <td>107,266.44</td>\n",
       "    </tr>\n",
       "    <tr>\n",
       "      <th>3387</th>\n",
       "      <td>India</td>\n",
       "      <td>National currency</td>\n",
       "      <td>43,192.88</td>\n",
       "      <td>46,624.11</td>\n",
       "      <td>50,283.62</td>\n",
       "      <td>...</td>\n",
       "      <td>145,346.40</td>\n",
       "      <td>136,871.20</td>\n",
       "      <td>149,258.40</td>\n",
       "      <td>160,064.30</td>\n",
       "      <td>170,199.53</td>\n",
       "    </tr>\n",
       "    <tr>\n",
       "      <th>6291</th>\n",
       "      <td>Russia</td>\n",
       "      <td>National currency</td>\n",
       "      <td>77,603.50</td>\n",
       "      <td>83,311.80</td>\n",
       "      <td>89,264.80</td>\n",
       "      <td>...</td>\n",
       "      <td>131,595.00</td>\n",
       "      <td>128,102.90</td>\n",
       "      <td>135,295.00</td>\n",
       "      <td>132,494.80</td>\n",
       "      <td>135,475.26</td>\n",
       "    </tr>\n",
       "    <tr>\n",
       "      <th>6951</th>\n",
       "      <td>South Africa</td>\n",
       "      <td>National currency</td>\n",
       "      <td>3,010.47</td>\n",
       "      <td>3,099.25</td>\n",
       "      <td>3,240.41</td>\n",
       "      <td>...</td>\n",
       "      <td>4,583.67</td>\n",
       "      <td>4,310.33</td>\n",
       "      <td>4,513.04</td>\n",
       "      <td>4,599.26</td>\n",
       "      <td>4,641.99</td>\n",
       "    </tr>\n",
       "  </tbody>\n",
       "</table>\n",
       "<p>5 rows × 24 columns</p>\n",
       "</div>"
      ],
      "text/plain": [
       "           Country              Units       2002       2003       2004  ...  \\\n",
       "1055        Brazil  National currency    820.328    829.688    877.477  ...   \n",
       "1583         China  National currency  20,514.56  22,570.42  24,853.26  ...   \n",
       "3387         India  National currency  43,192.88  46,624.11  50,283.62  ...   \n",
       "6291        Russia  National currency  77,603.50  83,311.80  89,264.80  ...   \n",
       "6951  South Africa  National currency   3,010.47   3,099.25   3,240.41  ...   \n",
       "\n",
       "            2019        2020        2021        2022        2023  \n",
       "1055    1,204.17    1,164.71    1,222.82    1,258.29    1,297.09  \n",
       "1583   89,451.02   91,456.54   99,184.26  102,148.67  107,266.44  \n",
       "3387  145,346.40  136,871.20  149,258.40  160,064.30  170,199.53  \n",
       "6291  131,595.00  128,102.90  135,295.00  132,494.80  135,475.26  \n",
       "6951    4,583.67    4,310.33    4,513.04    4,599.26    4,641.99  \n",
       "\n",
       "[5 rows x 24 columns]"
      ]
     },
     "execution_count": 15,
     "metadata": {},
     "output_type": "execute_result"
    }
   ],
   "source": [
    "# Using loc method\n",
    "filtered_GDP_BRICS = GDP_BRICS.loc[(GDP_BRICS[\"Subject Descriptor\"] == \"Gross domestic product, constant prices\") & (GDP_BRICS[\"Units\"] == \"National currency\")]\n",
    "\n",
    "filtered_GDP_BRICS\n",
    "gdp_national=filtered_GDP_BRICS[[\"Country\", \"Units\",\"2002\",\"2003\", \"2004\",\"2005\", \"2006\", '2007', '2008', '2009', '2010', '2011', '2012', '2013', '2014', '2015',\n",
    "       '2016', '2017', '2018', '2019', '2020', '2021', '2022', '2023',]]\n",
    "gdp_national"
   ]
  },
  {
   "cell_type": "markdown",
   "id": "f040a4b7",
   "metadata": {},
   "source": [
    "##### Summary statistics"
   ]
  },
  {
   "cell_type": "code",
   "execution_count": 16,
   "id": "b3001ffb",
   "metadata": {
    "scrolled": true
   },
   "outputs": [],
   "source": [
    "gdp_year= gdp_national.melt(id_vars=['Country', 'Units'], \n",
    "                                    var_name='Year', \n",
    "                                    value_name='GDP')"
   ]
  },
  {
   "cell_type": "code",
   "execution_count": 17,
   "id": "75e4c74c",
   "metadata": {},
   "outputs": [],
   "source": [
    "# Convert the 'GDP' column to a numeric type (float)\n",
    "gdp_year['GDP'] = gdp_year['GDP'].replace(',', '', regex=True)\n",
    "gdp_year['GDP'] = pd.to_numeric(gdp_year['GDP'], errors='coerce')\n",
    "#print(gdp_year[gdp_year[\"Country\"]==\"South Africa\"])"
   ]
  },
  {
   "cell_type": "code",
   "execution_count": 18,
   "id": "c7b0916d",
   "metadata": {
    "scrolled": true
   },
   "outputs": [
    {
     "name": "stderr",
     "output_type": "stream",
     "text": [
      "2023-12-26 18:29:00,728 - INFO - Using categorical units to plot a list of strings that are all parsable as floats or dates. If these strings should be plotted as numbers, cast to the appropriate data type before plotting.\n",
      "2023-12-26 18:29:00,731 - INFO - Using categorical units to plot a list of strings that are all parsable as floats or dates. If these strings should be plotted as numbers, cast to the appropriate data type before plotting.\n",
      "2023-12-26 18:29:00,734 - INFO - Using categorical units to plot a list of strings that are all parsable as floats or dates. If these strings should be plotted as numbers, cast to the appropriate data type before plotting.\n",
      "2023-12-26 18:29:00,735 - INFO - Using categorical units to plot a list of strings that are all parsable as floats or dates. If these strings should be plotted as numbers, cast to the appropriate data type before plotting.\n",
      "2023-12-26 18:29:00,738 - INFO - Using categorical units to plot a list of strings that are all parsable as floats or dates. If these strings should be plotted as numbers, cast to the appropriate data type before plotting.\n",
      "2023-12-26 18:29:00,740 - INFO - Using categorical units to plot a list of strings that are all parsable as floats or dates. If these strings should be plotted as numbers, cast to the appropriate data type before plotting.\n",
      "2023-12-26 18:29:00,742 - INFO - Using categorical units to plot a list of strings that are all parsable as floats or dates. If these strings should be plotted as numbers, cast to the appropriate data type before plotting.\n",
      "2023-12-26 18:29:00,743 - INFO - Using categorical units to plot a list of strings that are all parsable as floats or dates. If these strings should be plotted as numbers, cast to the appropriate data type before plotting.\n",
      "2023-12-26 18:29:00,746 - INFO - Using categorical units to plot a list of strings that are all parsable as floats or dates. If these strings should be plotted as numbers, cast to the appropriate data type before plotting.\n",
      "2023-12-26 18:29:00,748 - INFO - Using categorical units to plot a list of strings that are all parsable as floats or dates. If these strings should be plotted as numbers, cast to the appropriate data type before plotting.\n"
     ]
    },
    {
     "data": {
      "image/png": "[encoded data removed]",
      "text/plain": [
       "<Figure size 2000x600 with 1 Axes>"
      ]
     },
     "metadata": {},
     "output_type": "display_data"
    }
   ],
   "source": [
    "plt.figure(figsize=(20, 6))  # Set the size of the plot\n",
    "\n",
    "# Plotting each country's GDP\n",
    "for country in gdp_year['Country'].unique():\n",
    "    country_data = gdp_year[gdp_year['Country'] == country]\n",
    "    plt.plot(country_data['Year'], country_data['GDP'])\n",
    "plt.gca().yaxis.set_ticklabels([])\n",
    "plt.xlabel('Year')\n",
    "plt.ylabel('GDP in national currency')  # Assuming all rows have the same units\n",
    "plt.title('GDP Over Time for BRICS Countries')\n",
    "plt.legend(gdp_year['Country'].unique())\n",
    "plt.xticks(rotation=45)  # Rotate x-axis labels for better readability\n",
    "plt.show()\n"
   ]
  },
  {
   "cell_type": "code",
   "execution_count": 19,
   "id": "adcbf3f9",
   "metadata": {
    "scrolled": false
   },
   "outputs": [
    {
     "data": {
      "text/html": [
       "<div>\n",
       "<style scoped>\n",
       "    .dataframe tbody tr th:only-of-type {\n",
       "        vertical-align: middle;\n",
       "    }\n",
       "\n",
       "    .dataframe tbody tr th {\n",
       "        vertical-align: top;\n",
       "    }\n",
       "\n",
       "    .dataframe thead th {\n",
       "        text-align: right;\n",
       "    }\n",
       "</style>\n",
       "<table border=\"1\" class=\"dataframe\">\n",
       "  <thead>\n",
       "    <tr style=\"text-align: right;\">\n",
       "      <th></th>\n",
       "      <th>Country</th>\n",
       "      <th>Units</th>\n",
       "      <th>Year</th>\n",
       "      <th>GDP</th>\n",
       "      <th>gdp_growth</th>\n",
       "    </tr>\n",
       "  </thead>\n",
       "  <tbody>\n",
       "    <tr>\n",
       "      <th>5</th>\n",
       "      <td>Brazil</td>\n",
       "      <td>National currency</td>\n",
       "      <td>2003</td>\n",
       "      <td>829.688</td>\n",
       "      <td>1.141007</td>\n",
       "    </tr>\n",
       "    <tr>\n",
       "      <th>10</th>\n",
       "      <td>Brazil</td>\n",
       "      <td>National currency</td>\n",
       "      <td>2004</td>\n",
       "      <td>877.477</td>\n",
       "      <td>5.759876</td>\n",
       "    </tr>\n",
       "    <tr>\n",
       "      <th>15</th>\n",
       "      <td>Brazil</td>\n",
       "      <td>National currency</td>\n",
       "      <td>2005</td>\n",
       "      <td>905.575</td>\n",
       "      <td>3.202135</td>\n",
       "    </tr>\n",
       "    <tr>\n",
       "      <th>20</th>\n",
       "      <td>Brazil</td>\n",
       "      <td>National currency</td>\n",
       "      <td>2006</td>\n",
       "      <td>941.453</td>\n",
       "      <td>3.961903</td>\n",
       "    </tr>\n",
       "    <tr>\n",
       "      <th>25</th>\n",
       "      <td>Brazil</td>\n",
       "      <td>National currency</td>\n",
       "      <td>2007</td>\n",
       "      <td>998.598</td>\n",
       "      <td>6.069873</td>\n",
       "    </tr>\n",
       "    <tr>\n",
       "      <th>...</th>\n",
       "      <td>...</td>\n",
       "      <td>...</td>\n",
       "      <td>...</td>\n",
       "      <td>...</td>\n",
       "      <td>...</td>\n",
       "    </tr>\n",
       "    <tr>\n",
       "      <th>89</th>\n",
       "      <td>South Africa</td>\n",
       "      <td>National currency</td>\n",
       "      <td>2019</td>\n",
       "      <td>4583.670</td>\n",
       "      <td>0.260074</td>\n",
       "    </tr>\n",
       "    <tr>\n",
       "      <th>94</th>\n",
       "      <td>South Africa</td>\n",
       "      <td>National currency</td>\n",
       "      <td>2020</td>\n",
       "      <td>4310.330</td>\n",
       "      <td>-5.963344</td>\n",
       "    </tr>\n",
       "    <tr>\n",
       "      <th>99</th>\n",
       "      <td>South Africa</td>\n",
       "      <td>National currency</td>\n",
       "      <td>2021</td>\n",
       "      <td>4513.040</td>\n",
       "      <td>4.702888</td>\n",
       "    </tr>\n",
       "    <tr>\n",
       "      <th>104</th>\n",
       "      <td>South Africa</td>\n",
       "      <td>National currency</td>\n",
       "      <td>2022</td>\n",
       "      <td>4599.260</td>\n",
       "      <td>1.910464</td>\n",
       "    </tr>\n",
       "    <tr>\n",
       "      <th>109</th>\n",
       "      <td>South Africa</td>\n",
       "      <td>National currency</td>\n",
       "      <td>2023</td>\n",
       "      <td>4641.990</td>\n",
       "      <td>0.929063</td>\n",
       "    </tr>\n",
       "  </tbody>\n",
       "</table>\n",
       "<p>105 rows × 5 columns</p>\n",
       "</div>"
      ],
      "text/plain": [
       "          Country              Units  Year       GDP  gdp_growth\n",
       "5          Brazil  National currency  2003   829.688    1.141007\n",
       "10         Brazil  National currency  2004   877.477    5.759876\n",
       "15         Brazil  National currency  2005   905.575    3.202135\n",
       "20         Brazil  National currency  2006   941.453    3.961903\n",
       "25         Brazil  National currency  2007   998.598    6.069873\n",
       "..            ...                ...   ...       ...         ...\n",
       "89   South Africa  National currency  2019  4583.670    0.260074\n",
       "94   South Africa  National currency  2020  4310.330   -5.963344\n",
       "99   South Africa  National currency  2021  4513.040    4.702888\n",
       "104  South Africa  National currency  2022  4599.260    1.910464\n",
       "109  South Africa  National currency  2023  4641.990    0.929063\n",
       "\n",
       "[105 rows x 5 columns]"
      ]
     },
     "execution_count": 19,
     "metadata": {},
     "output_type": "execute_result"
    }
   ],
   "source": [
    "#  sorted by country and year for correct calculation\n",
    "gdp_year = gdp_year.sort_values(by=['Country', 'Year'])\n",
    "\n",
    "# Calculate GDP growth rate\n",
    "gdp_year['gdp_growth'] = gdp_year.groupby('Country')['GDP'].pct_change() * 100\n",
    "\n",
    "# to remove NaN values which appear for the first year of each country\n",
    "gdp_year.dropna(subset=['gdp_growth'], inplace=True)\n",
    "\n",
    "gdp_year\n"
   ]
  },
  {
   "cell_type": "code",
   "execution_count": 20,
   "id": "a1e01b6b",
   "metadata": {},
   "outputs": [
    {
     "name": "stderr",
     "output_type": "stream",
     "text": [
      "2023-12-26 18:29:01,096 - INFO - Using categorical units to plot a list of strings that are all parsable as floats or dates. If these strings should be plotted as numbers, cast to the appropriate data type before plotting.\n",
      "2023-12-26 18:29:01,099 - INFO - Using categorical units to plot a list of strings that are all parsable as floats or dates. If these strings should be plotted as numbers, cast to the appropriate data type before plotting.\n",
      "2023-12-26 18:29:01,101 - INFO - Using categorical units to plot a list of strings that are all parsable as floats or dates. If these strings should be plotted as numbers, cast to the appropriate data type before plotting.\n",
      "2023-12-26 18:29:01,103 - INFO - Using categorical units to plot a list of strings that are all parsable as floats or dates. If these strings should be plotted as numbers, cast to the appropriate data type before plotting.\n",
      "2023-12-26 18:29:01,105 - INFO - Using categorical units to plot a list of strings that are all parsable as floats or dates. If these strings should be plotted as numbers, cast to the appropriate data type before plotting.\n",
      "2023-12-26 18:29:01,108 - INFO - Using categorical units to plot a list of strings that are all parsable as floats or dates. If these strings should be plotted as numbers, cast to the appropriate data type before plotting.\n",
      "2023-12-26 18:29:01,110 - INFO - Using categorical units to plot a list of strings that are all parsable as floats or dates. If these strings should be plotted as numbers, cast to the appropriate data type before plotting.\n",
      "2023-12-26 18:29:01,113 - INFO - Using categorical units to plot a list of strings that are all parsable as floats or dates. If these strings should be plotted as numbers, cast to the appropriate data type before plotting.\n",
      "2023-12-26 18:29:01,117 - INFO - Using categorical units to plot a list of strings that are all parsable as floats or dates. If these strings should be plotted as numbers, cast to the appropriate data type before plotting.\n",
      "2023-12-26 18:29:01,121 - INFO - Using categorical units to plot a list of strings that are all parsable as floats or dates. If these strings should be plotted as numbers, cast to the appropriate data type before plotting.\n"
     ]
    },
    {
     "data": {
      "image/png": "[encoded data removed]",
      "text/plain": [
       "<Figure size 2000x600 with 1 Axes>"
      ]
     },
     "metadata": {},
     "output_type": "display_data"
    }
   ],
   "source": [
    "plt.figure(figsize=(20, 6))  # Set the size of the plot\n",
    "unique_countries = gdp_year['Country'].unique()\n",
    "for country in unique_countries:\n",
    "    country_data = gdp_year[gdp_year['Country'] == country]\n",
    "    plt.plot(country_data['Year'], country_data['gdp_growth'], label=country)\n",
    "\n",
    "plt.xlabel('Year')\n",
    "plt.ylabel('GDP Growth (%)')\n",
    "plt.title('GDP Growth by Country over Years')\n",
    "plt.legend()\n",
    "plt.show()"
   ]
  },
  {
   "cell_type": "markdown",
   "id": "1ef72e3e",
   "metadata": {},
   "source": [
    "#### Inflation rates"
   ]
  },
  {
   "cell_type": "markdown",
   "id": "57c3f25f",
   "metadata": {},
   "source": [
    "Inflation measured by consumer price index (CPI) is defined as the change in the prices of a basket of goods and services that are typically purchased by specific groups of households. Inflation is measured in terms of the annual growth rate and in index, 2015 base year with a breakdown for food, energy and total excluding food and energy. Inflation measures the erosion of living standards. A consumer price index is estimated as a series of summary measures of the period-to-period proportional change in the prices of a fixed set of consumer goods and services of constant quantity and characteristics, acquired, used or paid for by the reference population. Each summary measure is constructed as a weighted average of a large number of elementary aggregate indices. Each of the elementary aggregate indices is estimated using a sample of prices for a defined set of goods and services obtained in, or by residents of, a specific region from a given set of outlets or other sources of consumption goods and services.\n",
    "\n",
    "https://data.oecd.org/price/inflation-cpi.htm"
   ]
  },
  {
   "cell_type": "code",
   "execution_count": 21,
   "id": "c641a4b7",
   "metadata": {
    "scrolled": false
   },
   "outputs": [
    {
     "name": "stdout",
     "output_type": "stream",
     "text": [
      "<class 'pandas.core.frame.DataFrame'>\n",
      "RangeIndex: 74 entries, 0 to 73\n",
      "Data columns (total 7 columns):\n",
      " #   Column     Non-Null Count  Dtype  \n",
      "---  ------     --------------  -----  \n",
      " 0   LOCATION   74 non-null     object \n",
      " 1   INDICATOR  74 non-null     object \n",
      " 2   SUBJECT    74 non-null     object \n",
      " 3   MEASURE    74 non-null     object \n",
      " 4   FREQUENCY  74 non-null     object \n",
      " 5   TIME       74 non-null     int64  \n",
      " 6   Value      74 non-null     float64\n",
      "dtypes: float64(1), int64(1), object(5)\n",
      "memory usage: 4.2+ KB\n"
     ]
    }
   ],
   "source": [
    "file_path2 = '/home/anamaria/code/nusero92/cryptocurency/Data/inflation_rates.csv'\n",
    "inflation=pd.read_csv(file_path2)\n",
    "\n",
    "inflation=inflation.drop(\"Flag Codes\", axis=1)\n",
    "inflation.info()"
   ]
  },
  {
   "cell_type": "code",
   "execution_count": 22,
   "id": "36317386",
   "metadata": {
    "scrolled": true
   },
   "outputs": [
    {
     "data": {
      "text/html": [
       "<div>\n",
       "<style scoped>\n",
       "    .dataframe tbody tr th:only-of-type {\n",
       "        vertical-align: middle;\n",
       "    }\n",
       "\n",
       "    .dataframe tbody tr th {\n",
       "        vertical-align: top;\n",
       "    }\n",
       "\n",
       "    .dataframe thead th {\n",
       "        text-align: right;\n",
       "    }\n",
       "</style>\n",
       "<table border=\"1\" class=\"dataframe\">\n",
       "  <thead>\n",
       "    <tr style=\"text-align: right;\">\n",
       "      <th></th>\n",
       "      <th>LOCATION</th>\n",
       "      <th>INDICATOR</th>\n",
       "      <th>SUBJECT</th>\n",
       "      <th>MEASURE</th>\n",
       "      <th>FREQUENCY</th>\n",
       "      <th>TIME</th>\n",
       "      <th>Value</th>\n",
       "    </tr>\n",
       "  </thead>\n",
       "  <tbody>\n",
       "    <tr>\n",
       "      <th>0</th>\n",
       "      <td>BRA</td>\n",
       "      <td>CPI</td>\n",
       "      <td>FOOD</td>\n",
       "      <td>AGRWTH</td>\n",
       "      <td>A</td>\n",
       "      <td>2018</td>\n",
       "      <td>0.870314</td>\n",
       "    </tr>\n",
       "    <tr>\n",
       "      <th>1</th>\n",
       "      <td>BRA</td>\n",
       "      <td>CPI</td>\n",
       "      <td>TOT</td>\n",
       "      <td>AGRWTH</td>\n",
       "      <td>A</td>\n",
       "      <td>2018</td>\n",
       "      <td>3.664850</td>\n",
       "    </tr>\n",
       "    <tr>\n",
       "      <th>2</th>\n",
       "      <td>BRA</td>\n",
       "      <td>CPI</td>\n",
       "      <td>TOT</td>\n",
       "      <td>AGRWTH</td>\n",
       "      <td>A</td>\n",
       "      <td>2019</td>\n",
       "      <td>3.732976</td>\n",
       "    </tr>\n",
       "    <tr>\n",
       "      <th>3</th>\n",
       "      <td>BRA</td>\n",
       "      <td>CPI</td>\n",
       "      <td>TOT</td>\n",
       "      <td>AGRWTH</td>\n",
       "      <td>A</td>\n",
       "      <td>2020</td>\n",
       "      <td>3.211768</td>\n",
       "    </tr>\n",
       "    <tr>\n",
       "      <th>4</th>\n",
       "      <td>BRA</td>\n",
       "      <td>CPI</td>\n",
       "      <td>TOT</td>\n",
       "      <td>AGRWTH</td>\n",
       "      <td>A</td>\n",
       "      <td>2021</td>\n",
       "      <td>8.301660</td>\n",
       "    </tr>\n",
       "  </tbody>\n",
       "</table>\n",
       "</div>"
      ],
      "text/plain": [
       "  LOCATION INDICATOR SUBJECT MEASURE FREQUENCY  TIME     Value\n",
       "0      BRA       CPI    FOOD  AGRWTH         A  2018  0.870314\n",
       "1      BRA       CPI     TOT  AGRWTH         A  2018  3.664850\n",
       "2      BRA       CPI     TOT  AGRWTH         A  2019  3.732976\n",
       "3      BRA       CPI     TOT  AGRWTH         A  2020  3.211768\n",
       "4      BRA       CPI     TOT  AGRWTH         A  2021  8.301660"
      ]
     },
     "execution_count": 22,
     "metadata": {},
     "output_type": "execute_result"
    }
   ],
   "source": [
    "inflation.head()\n"
   ]
  },
  {
   "cell_type": "code",
   "execution_count": 23,
   "id": "fb05453c",
   "metadata": {},
   "outputs": [
    {
     "data": {
      "text/html": [
       "<div>\n",
       "<style scoped>\n",
       "    .dataframe tbody tr th:only-of-type {\n",
       "        vertical-align: middle;\n",
       "    }\n",
       "\n",
       "    .dataframe tbody tr th {\n",
       "        vertical-align: top;\n",
       "    }\n",
       "\n",
       "    .dataframe thead th {\n",
       "        text-align: right;\n",
       "    }\n",
       "</style>\n",
       "<table border=\"1\" class=\"dataframe\">\n",
       "  <thead>\n",
       "    <tr style=\"text-align: right;\">\n",
       "      <th></th>\n",
       "      <th>LOCATION</th>\n",
       "      <th>INDICATOR</th>\n",
       "      <th>SUBJECT</th>\n",
       "      <th>MEASURE</th>\n",
       "      <th>FREQUENCY</th>\n",
       "      <th>TIME</th>\n",
       "      <th>Value</th>\n",
       "    </tr>\n",
       "  </thead>\n",
       "  <tbody>\n",
       "    <tr>\n",
       "      <th>0</th>\n",
       "      <td>BRA</td>\n",
       "      <td>CPI</td>\n",
       "      <td>FOOD</td>\n",
       "      <td>AGRWTH</td>\n",
       "      <td>A</td>\n",
       "      <td>2018</td>\n",
       "      <td>0.870314</td>\n",
       "    </tr>\n",
       "    <tr>\n",
       "      <th>1</th>\n",
       "      <td>BRA</td>\n",
       "      <td>CPI</td>\n",
       "      <td>TOT</td>\n",
       "      <td>AGRWTH</td>\n",
       "      <td>A</td>\n",
       "      <td>2018</td>\n",
       "      <td>3.664850</td>\n",
       "    </tr>\n",
       "    <tr>\n",
       "      <th>2</th>\n",
       "      <td>BRA</td>\n",
       "      <td>CPI</td>\n",
       "      <td>TOT</td>\n",
       "      <td>AGRWTH</td>\n",
       "      <td>A</td>\n",
       "      <td>2019</td>\n",
       "      <td>3.732976</td>\n",
       "    </tr>\n",
       "    <tr>\n",
       "      <th>3</th>\n",
       "      <td>BRA</td>\n",
       "      <td>CPI</td>\n",
       "      <td>TOT</td>\n",
       "      <td>AGRWTH</td>\n",
       "      <td>A</td>\n",
       "      <td>2020</td>\n",
       "      <td>3.211768</td>\n",
       "    </tr>\n",
       "    <tr>\n",
       "      <th>4</th>\n",
       "      <td>BRA</td>\n",
       "      <td>CPI</td>\n",
       "      <td>TOT</td>\n",
       "      <td>AGRWTH</td>\n",
       "      <td>A</td>\n",
       "      <td>2021</td>\n",
       "      <td>8.301660</td>\n",
       "    </tr>\n",
       "    <tr>\n",
       "      <th>...</th>\n",
       "      <td>...</td>\n",
       "      <td>...</td>\n",
       "      <td>...</td>\n",
       "      <td>...</td>\n",
       "      <td>...</td>\n",
       "      <td>...</td>\n",
       "      <td>...</td>\n",
       "    </tr>\n",
       "    <tr>\n",
       "      <th>69</th>\n",
       "      <td>RUS</td>\n",
       "      <td>CPI</td>\n",
       "      <td>TOT_FOODENRG</td>\n",
       "      <td>AGRWTH</td>\n",
       "      <td>A</td>\n",
       "      <td>2018</td>\n",
       "      <td>2.971667</td>\n",
       "    </tr>\n",
       "    <tr>\n",
       "      <th>70</th>\n",
       "      <td>RUS</td>\n",
       "      <td>CPI</td>\n",
       "      <td>TOT_FOODENRG</td>\n",
       "      <td>AGRWTH</td>\n",
       "      <td>A</td>\n",
       "      <td>2019</td>\n",
       "      <td>3.820000</td>\n",
       "    </tr>\n",
       "    <tr>\n",
       "      <th>71</th>\n",
       "      <td>RUS</td>\n",
       "      <td>CPI</td>\n",
       "      <td>TOT_FOODENRG</td>\n",
       "      <td>AGRWTH</td>\n",
       "      <td>A</td>\n",
       "      <td>2020</td>\n",
       "      <td>3.010833</td>\n",
       "    </tr>\n",
       "    <tr>\n",
       "      <th>72</th>\n",
       "      <td>RUS</td>\n",
       "      <td>CPI</td>\n",
       "      <td>TOT_FOODENRG</td>\n",
       "      <td>AGRWTH</td>\n",
       "      <td>A</td>\n",
       "      <td>2021</td>\n",
       "      <td>5.456666</td>\n",
       "    </tr>\n",
       "    <tr>\n",
       "      <th>73</th>\n",
       "      <td>IND</td>\n",
       "      <td>CPI</td>\n",
       "      <td>FOOD</td>\n",
       "      <td>AGRWTH</td>\n",
       "      <td>A</td>\n",
       "      <td>2018</td>\n",
       "      <td>1.252763</td>\n",
       "    </tr>\n",
       "  </tbody>\n",
       "</table>\n",
       "<p>74 rows × 7 columns</p>\n",
       "</div>"
      ],
      "text/plain": [
       "   LOCATION INDICATOR       SUBJECT MEASURE FREQUENCY  TIME     Value\n",
       "0       BRA       CPI          FOOD  AGRWTH         A  2018  0.870314\n",
       "1       BRA       CPI           TOT  AGRWTH         A  2018  3.664850\n",
       "2       BRA       CPI           TOT  AGRWTH         A  2019  3.732976\n",
       "3       BRA       CPI           TOT  AGRWTH         A  2020  3.211768\n",
       "4       BRA       CPI           TOT  AGRWTH         A  2021  8.301660\n",
       "..      ...       ...           ...     ...       ...   ...       ...\n",
       "69      RUS       CPI  TOT_FOODENRG  AGRWTH         A  2018  2.971667\n",
       "70      RUS       CPI  TOT_FOODENRG  AGRWTH         A  2019  3.820000\n",
       "71      RUS       CPI  TOT_FOODENRG  AGRWTH         A  2020  3.010833\n",
       "72      RUS       CPI  TOT_FOODENRG  AGRWTH         A  2021  5.456666\n",
       "73      IND       CPI          FOOD  AGRWTH         A  2018  1.252763\n",
       "\n",
       "[74 rows x 7 columns]"
      ]
     },
     "execution_count": 23,
     "metadata": {},
     "output_type": "execute_result"
    }
   ],
   "source": [
    "inflation[\"TIME\"]=inflation[\"TIME\"].astype(int)\n",
    "#inflation[\"TIME\"]= inflation[\"TIME\"].apply(lambda x: datetime(x,1,1))\n",
    "inflation"
   ]
  },
  {
   "cell_type": "code",
   "execution_count": 24,
   "id": "f88fe948",
   "metadata": {},
   "outputs": [
    {
     "data": {
      "text/html": [
       "<div>\n",
       "<style scoped>\n",
       "    .dataframe tbody tr th:only-of-type {\n",
       "        vertical-align: middle;\n",
       "    }\n",
       "\n",
       "    .dataframe tbody tr th {\n",
       "        vertical-align: top;\n",
       "    }\n",
       "\n",
       "    .dataframe thead th {\n",
       "        text-align: right;\n",
       "    }\n",
       "</style>\n",
       "<table border=\"1\" class=\"dataframe\">\n",
       "  <thead>\n",
       "    <tr style=\"text-align: right;\">\n",
       "      <th></th>\n",
       "      <th>LOCATION</th>\n",
       "      <th>INDICATOR</th>\n",
       "      <th>SUBJECT</th>\n",
       "      <th>MEASURE</th>\n",
       "      <th>FREQUENCY</th>\n",
       "      <th>TIME</th>\n",
       "      <th>Value</th>\n",
       "    </tr>\n",
       "  </thead>\n",
       "  <tbody>\n",
       "  </tbody>\n",
       "</table>\n",
       "</div>"
      ],
      "text/plain": [
       "Empty DataFrame\n",
       "Columns: [LOCATION, INDICATOR, SUBJECT, MEASURE, FREQUENCY, TIME, Value]\n",
       "Index: []"
      ]
     },
     "execution_count": 24,
     "metadata": {},
     "output_type": "execute_result"
    }
   ],
   "source": [
    "inflation_2021 = inflation[inflation['TIME'] == \"2021\"]\n",
    "inflation_2021"
   ]
  },
  {
   "cell_type": "markdown",
   "id": "79ea2dd0",
   "metadata": {},
   "source": [
    "##### Trend analysis"
   ]
  },
  {
   "cell_type": "code",
   "execution_count": 25,
   "id": "ee5f8393",
   "metadata": {
    "scrolled": false
   },
   "outputs": [
    {
     "name": "stdout",
     "output_type": "stream",
     "text": [
      "0    2018\n",
      "1    2018\n",
      "2    2019\n",
      "3    2020\n",
      "4    2021\n",
      "Name: TIME, dtype: object\n"
     ]
    },
    {
     "data": {
      "image/png": "[encoded data removed]",
      "text/plain": [
       "<Figure size 2000x800 with 1 Axes>"
      ]
     },
     "metadata": {},
     "output_type": "display_data"
    }
   ],
   "source": [
    "# Ensure the 'TIME' column is a string before performing string operations\n",
    "inflation['TIME'] = inflation['TIME'].astype(str)\n",
    "\n",
    "# Check if the year part is correct (e.g., '2023-01' or '2023-07')\n",
    "print(inflation['TIME'].head())\n",
    "\n",
    "# Assuming the format is correct (e.g., '2023-01' for first half and '2023-07' for second half)\n",
    "# Replace '01' with '06-30' and '07' with '12-31'\n",
    "inflation['TIME'] = pd.to_datetime(inflation['TIME'].str.replace('-01', '-06-30').str.replace('-07', '-12-31'))\n",
    "\n",
    "# Now you can plot the data\n",
    "plt.figure(figsize=(20, 8))\n",
    "ax = sns.lineplot(data=inflation, x='TIME', y='Value', hue='LOCATION', ci=None)\n",
    "\n",
    "# Set the date format on the x-axis\n",
    "ax.xaxis.set_major_locator(mdates.AutoDateLocator())\n",
    "ax.xaxis.set_major_formatter(mdates.DateFormatter('%Y-%m-%d'))\n",
    "\n",
    "plt.xticks(rotation=90)\n",
    "plt.title('Semi-Annual Inflation Rate Trends in BRICS Countries')\n",
    "plt.ylabel('Inflation Rate (%)')\n",
    "plt.xlabel('Date')\n",
    "plt.tight_layout()\n",
    "plt.show()\n"
   ]
  },
  {
   "cell_type": "markdown",
   "id": "c8b66a19",
   "metadata": {},
   "source": [
    "#### Comparative analysis"
   ]
  },
  {
   "cell_type": "code",
   "execution_count": 26,
   "id": "1a7fe81f",
   "metadata": {},
   "outputs": [
    {
     "data": {
      "image/png": "[encoded data removed]",
      "text/plain": [
       "<Figure size 1000x600 with 1 Axes>"
      ]
     },
     "metadata": {},
     "output_type": "display_data"
    }
   ],
   "source": [
    "# Calculate average inflation rates for each country\n",
    "average_inflation = inflation.groupby('LOCATION')['Value'].mean().reset_index()\n",
    "\n",
    "# Plotting the average inflation rates\n",
    "plt.figure(figsize=(10, 6))\n",
    "sns.barplot(data=average_inflation, x='LOCATION', y='Value', palette='viridis')\n",
    "plt.title('Average Inflation Rates in BRICS Countries')\n",
    "plt.xlabel('Country')\n",
    "plt.ylabel('Average Inflation Rate (%)')\n",
    "plt.show()\n"
   ]
  },
  {
   "cell_type": "markdown",
   "id": "48aaf111",
   "metadata": {},
   "source": [
    "#### Subject specific analysis"
   ]
  },
  {
   "cell_type": "code",
   "execution_count": 27,
   "id": "25d72548",
   "metadata": {
    "scrolled": true
   },
   "outputs": [
    {
     "data": {
      "image/png": "[encoded data removed]",
      "text/plain": [
       "<Figure size 1400x800 with 1 Axes>"
      ]
     },
     "metadata": {},
     "output_type": "display_data"
    }
   ],
   "source": [
    "# Plot inflation rates by subject for each country\n",
    "plt.figure(figsize=(14, 8))\n",
    "sns.barplot(data=inflation, x='LOCATION', y='Value', hue='SUBJECT', palette='coolwarm')\n",
    "plt.title('Inflation Rates by Subject in BRICS Countries')\n",
    "plt.xlabel('Country')\n",
    "plt.ylabel('Inflation Rate (%)')\n",
    "plt.legend(title='Subject')\n",
    "plt.show()\n"
   ]
  },
  {
   "cell_type": "markdown",
   "id": "ef424835",
   "metadata": {},
   "source": [
    "#### Correlation analysis"
   ]
  },
  {
   "cell_type": "markdown",
   "id": "43643fed",
   "metadata": {},
   "source": [
    "##### Adoption rate crypto"
   ]
  },
  {
   "cell_type": "code",
   "execution_count": 28,
   "id": "210d8b2d",
   "metadata": {
    "scrolled": false
   },
   "outputs": [
    {
     "data": {
      "text/html": [
       "<div>\n",
       "<style scoped>\n",
       "    .dataframe tbody tr th:only-of-type {\n",
       "        vertical-align: middle;\n",
       "    }\n",
       "\n",
       "    .dataframe tbody tr th {\n",
       "        vertical-align: top;\n",
       "    }\n",
       "\n",
       "    .dataframe thead th {\n",
       "        text-align: right;\n",
       "    }\n",
       "</style>\n",
       "<table border=\"1\" class=\"dataframe\">\n",
       "  <thead>\n",
       "    <tr style=\"text-align: right;\">\n",
       "      <th></th>\n",
       "      <th>Country</th>\n",
       "      <th>Index Score</th>\n",
       "      <th>Overall Index Ranking</th>\n",
       "      <th>On-chain Value Received</th>\n",
       "      <th>On-chain Retail Value Received</th>\n",
       "      <th>P2P Exchange Trade Volume</th>\n",
       "      <th>TIME</th>\n",
       "    </tr>\n",
       "  </thead>\n",
       "  <tbody>\n",
       "    <tr>\n",
       "      <th>0</th>\n",
       "      <td>Russian Federation</td>\n",
       "      <td>0.14</td>\n",
       "      <td>18</td>\n",
       "      <td>8</td>\n",
       "      <td>6</td>\n",
       "      <td>122</td>\n",
       "      <td>2021</td>\n",
       "    </tr>\n",
       "    <tr>\n",
       "      <th>1</th>\n",
       "      <td>China</td>\n",
       "      <td>0.16</td>\n",
       "      <td>13</td>\n",
       "      <td>1</td>\n",
       "      <td>1</td>\n",
       "      <td>155</td>\n",
       "      <td>2021</td>\n",
       "    </tr>\n",
       "    <tr>\n",
       "      <th>2</th>\n",
       "      <td>Brazil</td>\n",
       "      <td>0.16</td>\n",
       "      <td>14</td>\n",
       "      <td>5</td>\n",
       "      <td>7</td>\n",
       "      <td>113</td>\n",
       "      <td>2021</td>\n",
       "    </tr>\n",
       "    <tr>\n",
       "      <th>3</th>\n",
       "      <td>South Africa</td>\n",
       "      <td>0.14</td>\n",
       "      <td>16</td>\n",
       "      <td>18</td>\n",
       "      <td>16</td>\n",
       "      <td>62</td>\n",
       "      <td>2021</td>\n",
       "    </tr>\n",
       "    <tr>\n",
       "      <th>4</th>\n",
       "      <td>India</td>\n",
       "      <td>0.37</td>\n",
       "      <td>2</td>\n",
       "      <td>2</td>\n",
       "      <td>3</td>\n",
       "      <td>72</td>\n",
       "      <td>2021</td>\n",
       "    </tr>\n",
       "  </tbody>\n",
       "</table>\n",
       "</div>"
      ],
      "text/plain": [
       "              Country  Index Score  Overall Index Ranking  \\\n",
       "0  Russian Federation         0.14                     18   \n",
       "1               China         0.16                     13   \n",
       "2              Brazil         0.16                     14   \n",
       "3        South Africa         0.14                     16   \n",
       "4               India         0.37                      2   \n",
       "\n",
       "   On-chain Value Received  On-chain Retail Value Received  \\\n",
       "0                        8                               6   \n",
       "1                        1                               1   \n",
       "2                        5                               7   \n",
       "3                       18                              16   \n",
       "4                        2                               3   \n",
       "\n",
       "   P2P Exchange Trade Volume  TIME  \n",
       "0                        122  2021  \n",
       "1                        155  2021  \n",
       "2                        113  2021  \n",
       "3                         62  2021  \n",
       "4                         72  2021  "
      ]
     },
     "execution_count": 28,
     "metadata": {},
     "output_type": "execute_result"
    }
   ],
   "source": [
    "file_index=\"/home/anamaria/code/nusero92/cryptocurency/Data/Global_Crypto_Adoption_Index.xlsx\"\n",
    "adoption_index=pd.read_excel(file_index)\n",
    "adoption_index[\"TIME\"]=int(2021)\n",
    "adoption_index"
   ]
  },
  {
   "cell_type": "code",
   "execution_count": 29,
   "id": "354dbca2",
   "metadata": {},
   "outputs": [
    {
     "data": {
      "text/html": [
       "<div>\n",
       "<style scoped>\n",
       "    .dataframe tbody tr th:only-of-type {\n",
       "        vertical-align: middle;\n",
       "    }\n",
       "\n",
       "    .dataframe tbody tr th {\n",
       "        vertical-align: top;\n",
       "    }\n",
       "\n",
       "    .dataframe thead th {\n",
       "        text-align: right;\n",
       "    }\n",
       "</style>\n",
       "<table border=\"1\" class=\"dataframe\">\n",
       "  <thead>\n",
       "    <tr style=\"text-align: right;\">\n",
       "      <th></th>\n",
       "      <th>Index Score</th>\n",
       "      <th>On-chain Value Received</th>\n",
       "      <th>On-chain Retail Value Received</th>\n",
       "      <th>P2P Exchange Trade Volume</th>\n",
       "      <th>Value</th>\n",
       "    </tr>\n",
       "  </thead>\n",
       "  <tbody>\n",
       "    <tr>\n",
       "      <th>Index Score</th>\n",
       "      <td>1.000000</td>\n",
       "      <td>-0.464624</td>\n",
       "      <td>-0.408286</td>\n",
       "      <td>-0.423623</td>\n",
       "      <td>NaN</td>\n",
       "    </tr>\n",
       "    <tr>\n",
       "      <th>On-chain Value Received</th>\n",
       "      <td>-0.464624</td>\n",
       "      <td>1.000000</td>\n",
       "      <td>0.973757</td>\n",
       "      <td>-0.583813</td>\n",
       "      <td>NaN</td>\n",
       "    </tr>\n",
       "    <tr>\n",
       "      <th>On-chain Retail Value Received</th>\n",
       "      <td>-0.408286</td>\n",
       "      <td>0.973757</td>\n",
       "      <td>1.000000</td>\n",
       "      <td>-0.651746</td>\n",
       "      <td>NaN</td>\n",
       "    </tr>\n",
       "    <tr>\n",
       "      <th>P2P Exchange Trade Volume</th>\n",
       "      <td>-0.423623</td>\n",
       "      <td>-0.583813</td>\n",
       "      <td>-0.651746</td>\n",
       "      <td>1.000000</td>\n",
       "      <td>NaN</td>\n",
       "    </tr>\n",
       "    <tr>\n",
       "      <th>Value</th>\n",
       "      <td>NaN</td>\n",
       "      <td>NaN</td>\n",
       "      <td>NaN</td>\n",
       "      <td>NaN</td>\n",
       "      <td>NaN</td>\n",
       "    </tr>\n",
       "  </tbody>\n",
       "</table>\n",
       "</div>"
      ],
      "text/plain": [
       "                                Index Score  On-chain Value Received  \\\n",
       "Index Score                        1.000000                -0.464624   \n",
       "On-chain Value Received           -0.464624                 1.000000   \n",
       "On-chain Retail Value Received    -0.408286                 0.973757   \n",
       "P2P Exchange Trade Volume         -0.423623                -0.583813   \n",
       "Value                                   NaN                      NaN   \n",
       "\n",
       "                                On-chain Retail Value Received  \\\n",
       "Index Score                                          -0.408286   \n",
       "On-chain Value Received                               0.973757   \n",
       "On-chain Retail Value Received                        1.000000   \n",
       "P2P Exchange Trade Volume                            -0.651746   \n",
       "Value                                                      NaN   \n",
       "\n",
       "                                P2P Exchange Trade Volume  Value  \n",
       "Index Score                                     -0.423623    NaN  \n",
       "On-chain Value Received                         -0.583813    NaN  \n",
       "On-chain Retail Value Received                  -0.651746    NaN  \n",
       "P2P Exchange Trade Volume                        1.000000    NaN  \n",
       "Value                                                 NaN    NaN  "
      ]
     },
     "execution_count": 29,
     "metadata": {},
     "output_type": "execute_result"
    }
   ],
   "source": [
    "# Map country names to their corresponding codes in the inflation data\n",
    "country_to_location = {\n",
    "    'Russian Federation': 'RUS',\n",
    "    'China': 'CHN',\n",
    "    'Brazil': 'BRA',\n",
    "    'South Africa': 'ZAF',\n",
    "    'India': 'IND'\n",
    "}\n",
    "\n",
    "# Map the country names to LOCATION codes in the cryptocurrency data\n",
    "adoption_index['LOCATION'] = adoption_index['Country'].map(country_to_location)\n",
    "\n",
    "# Average the inflation rates per country for 2021\n",
    "avg_inflation_2021 = inflation_2021.groupby('LOCATION')['Value'].mean().reset_index()\n",
    "\n",
    "# Merge the 2021 average inflation data with the cryptocurrency data on the LOCATION column\n",
    "merged_data = pd.merge(adoption_index, avg_inflation_2021, on='LOCATION', how='left')\n",
    "\n",
    "# Select the cryptocurrency metrics and the inflation rate ('Value')\n",
    "metrics = ['Index Score', 'On-chain Value Received', 'On-chain Retail Value Received', 'P2P Exchange Trade Volume', 'Value']\n",
    "\n",
    "# Calculate the correlation matrix for the selected metrics\n",
    "correlation_matrix = merged_data[metrics].corr()\n",
    "\n",
    "# Output the correlation matrix\n",
    "correlation_matrix\n",
    "\n"
   ]
  },
  {
   "cell_type": "markdown",
   "id": "50f46de1",
   "metadata": {},
   "source": [
    "#### Foreign exchange reserves"
   ]
  },
  {
   "cell_type": "code",
   "execution_count": null,
   "id": "825db70d",
   "metadata": {},
   "outputs": [],
   "source": []
  },
  {
   "cell_type": "code",
   "execution_count": null,
   "id": "376d9015",
   "metadata": {},
   "outputs": [],
   "source": []
  },
  {
   "cell_type": "code",
   "execution_count": null,
   "id": "c5e631a4",
   "metadata": {},
   "outputs": [],
   "source": []
  },
  {
   "cell_type": "markdown",
   "id": "87dd198b",
   "metadata": {},
   "source": [
    "#### Financial stability indicatiors"
   ]
  },
  {
   "cell_type": "markdown",
   "id": "2648a028",
   "metadata": {},
   "source": [
    "file:///C:/Users/anama/Downloads/FSI%20Compilation%20Guide%202019%20(English).pdf\n",
    "https://www.cbr.ru/Collection/Collection/File/43513/en_2q_3q_2022.pdf"
   ]
  },
  {
   "cell_type": "code",
   "execution_count": 30,
   "id": "a7a8a385",
   "metadata": {},
   "outputs": [
    {
     "data": {
      "text/html": [
       "<div>\n",
       "<style scoped>\n",
       "    .dataframe tbody tr th:only-of-type {\n",
       "        vertical-align: middle;\n",
       "    }\n",
       "\n",
       "    .dataframe tbody tr th {\n",
       "        vertical-align: top;\n",
       "    }\n",
       "\n",
       "    .dataframe thead th {\n",
       "        text-align: right;\n",
       "    }\n",
       "</style>\n",
       "<table border=\"1\" class=\"dataframe\">\n",
       "  <thead>\n",
       "    <tr style=\"text-align: right;\">\n",
       "      <th></th>\n",
       "      <th>Country</th>\n",
       "      <th>2010</th>\n",
       "      <th>2011</th>\n",
       "      <th>2012</th>\n",
       "      <th>2013</th>\n",
       "      <th>...</th>\n",
       "      <th>2019</th>\n",
       "      <th>2020</th>\n",
       "      <th>2021</th>\n",
       "      <th>2022</th>\n",
       "      <th>Period</th>\n",
       "    </tr>\n",
       "  </thead>\n",
       "  <tbody>\n",
       "    <tr>\n",
       "      <th>0</th>\n",
       "      <td>China, P.R.: Hong Kong</td>\n",
       "      <td>NaN</td>\n",
       "      <td>NaN</td>\n",
       "      <td>NaN</td>\n",
       "      <td>NaN</td>\n",
       "      <td>...</td>\n",
       "      <td>NaN</td>\n",
       "      <td>NaN</td>\n",
       "      <td>NaN</td>\n",
       "      <td>7,71</td>\n",
       "      <td>2023Q3</td>\n",
       "    </tr>\n",
       "    <tr>\n",
       "      <th>1</th>\n",
       "      <td>Russian Federation</td>\n",
       "      <td>10,84</td>\n",
       "      <td>10,04</td>\n",
       "      <td>9,96</td>\n",
       "      <td>10,36</td>\n",
       "      <td>...</td>\n",
       "      <td>9,16</td>\n",
       "      <td>6,98</td>\n",
       "      <td>6,67</td>\n",
       "      <td>6,69</td>\n",
       "      <td>2023M6</td>\n",
       "    </tr>\n",
       "    <tr>\n",
       "      <th>2</th>\n",
       "      <td>China, P.R.: Mainland</td>\n",
       "      <td>NaN</td>\n",
       "      <td>NaN</td>\n",
       "      <td>NaN</td>\n",
       "      <td>NaN</td>\n",
       "      <td>...</td>\n",
       "      <td>7,57</td>\n",
       "      <td>7,54</td>\n",
       "      <td>7,75</td>\n",
       "      <td>7,48</td>\n",
       "      <td>2022Q3</td>\n",
       "    </tr>\n",
       "    <tr>\n",
       "      <th>3</th>\n",
       "      <td>India</td>\n",
       "      <td>6,18</td>\n",
       "      <td>5,87</td>\n",
       "      <td>6,13</td>\n",
       "      <td>6,07</td>\n",
       "      <td>...</td>\n",
       "      <td>8,03</td>\n",
       "      <td>7,81</td>\n",
       "      <td>7,83</td>\n",
       "      <td>7,76</td>\n",
       "      <td>2023Q2</td>\n",
       "    </tr>\n",
       "    <tr>\n",
       "      <th>4</th>\n",
       "      <td>China, P.R.: Macao</td>\n",
       "      <td>3,02</td>\n",
       "      <td>2,66</td>\n",
       "      <td>2,66</td>\n",
       "      <td>2,36</td>\n",
       "      <td>...</td>\n",
       "      <td>3,1</td>\n",
       "      <td>3,08</td>\n",
       "      <td>2,84</td>\n",
       "      <td>3,51</td>\n",
       "      <td>2023Q3</td>\n",
       "    </tr>\n",
       "    <tr>\n",
       "      <th>5</th>\n",
       "      <td>South Africa</td>\n",
       "      <td>6,78</td>\n",
       "      <td>6,84</td>\n",
       "      <td>7,44</td>\n",
       "      <td>7,56</td>\n",
       "      <td>...</td>\n",
       "      <td>8,01</td>\n",
       "      <td>7,61</td>\n",
       "      <td>8,09</td>\n",
       "      <td>6,3</td>\n",
       "      <td>2022Q3</td>\n",
       "    </tr>\n",
       "    <tr>\n",
       "      <th>6</th>\n",
       "      <td>Brazil</td>\n",
       "      <td>10,3</td>\n",
       "      <td>10,08</td>\n",
       "      <td>10,15</td>\n",
       "      <td>10,15</td>\n",
       "      <td>...</td>\n",
       "      <td>9,55</td>\n",
       "      <td>8,66</td>\n",
       "      <td>8,77</td>\n",
       "      <td>8,76</td>\n",
       "      <td>2023Q1</td>\n",
       "    </tr>\n",
       "  </tbody>\n",
       "</table>\n",
       "<p>7 rows × 15 columns</p>\n",
       "</div>"
      ],
      "text/plain": [
       "                  Country   2010   2011   2012   2013  ...  2019  2020  2021  \\\n",
       "0  China, P.R.: Hong Kong    NaN    NaN    NaN    NaN  ...   NaN   NaN   NaN   \n",
       "1      Russian Federation  10,84  10,04   9,96  10,36  ...  9,16  6,98  6,67   \n",
       "2   China, P.R.: Mainland    NaN    NaN    NaN    NaN  ...  7,57  7,54  7,75   \n",
       "3                   India   6,18   5,87   6,13   6,07  ...  8,03  7,81  7,83   \n",
       "4      China, P.R.: Macao   3,02   2,66   2,66   2,36  ...   3,1  3,08  2,84   \n",
       "5            South Africa   6,78   6,84   7,44   7,56  ...  8,01  7,61  8,09   \n",
       "6                  Brazil   10,3  10,08  10,15  10,15  ...  9,55  8,66  8,77   \n",
       "\n",
       "   2022  Period  \n",
       "0  7,71  2023Q3  \n",
       "1  6,69  2023M6  \n",
       "2  7,48  2022Q3  \n",
       "3  7,76  2023Q2  \n",
       "4  3,51  2023Q3  \n",
       "5   6,3  2022Q3  \n",
       "6  8,76  2023Q1  \n",
       "\n",
       "[7 rows x 15 columns]"
      ]
     },
     "execution_count": 30,
     "metadata": {},
     "output_type": "execute_result"
    }
   ],
   "source": [
    "file_fsi=\"/home/anamaria/code/nusero92/cryptocurency/Data/GFSR_FSI BRICS.csv\"\n",
    "fsi=pd.read_csv(file_fsi, sep=\";\")\n",
    "fsi.rename(columns={'Unnamed: 0': 'Country'}, inplace=True)\n",
    "fsi_BRICS = fsi[fsi[\"Country\"].isin([\"China, P.R.: Hong Kong\",\"China, P.R.: Mainland\",\"China, P.R.: Macao\", \"India\", \"Russian Federation\", \"South Africa\", \"Brazil\"])]\n",
    "fsi_BRICS=fsi_BRICS.reset_index(drop=True)\n",
    "fsi_BRICS"
   ]
  },
  {
   "cell_type": "markdown",
   "id": "7b0a7305",
   "metadata": {},
   "source": [
    "### Government Policies and Regulations\n",
    "\n",
    "Data Sources: Government websites, policy documents, official statements.\n",
    "\n",
    "Data Points: Existing regulations on cryptocurrencies, digital economy policies, central bank statements.\n",
    "\n",
    "Purpose: To understand the legal and regulatory environment, which directly impacts the feasibility of cryptocurrency adoption."
   ]
  },
  {
   "cell_type": "markdown",
   "id": "e1e2037a",
   "metadata": {},
   "source": [
    "#### Regulations on cryptocurrency regulations"
   ]
  },
  {
   "cell_type": "markdown",
   "id": "810f97fc",
   "metadata": {},
   "source": [
    "##### GLOBAL"
   ]
  },
  {
   "cell_type": "markdown",
   "id": "2b590ca0",
   "metadata": {},
   "source": [
    "https://www.pwc.com/gx/en/new-ventures/cryptocurrency-assets/pwc-global-crypto-regulation-report-2023.pdf\n",
    "file:///C:/Users/anama/Downloads/PPEA2023048.pdf\n",
    "file:///C:/Users/anama/Downloads/Cryptocurrency_regulation_in_the_BriCs_Countries_a.pdf"
   ]
  },
  {
   "cell_type": "code",
   "execution_count": 31,
   "id": "aaed386f",
   "metadata": {},
   "outputs": [],
   "source": [
    "reg_pwc_global=\"/home/anamaria/code/nusero92/cryptocurency/Data/pwc-global-crypto-regulation-report-2023.pdf\"\n",
    "cbdc_initial_considerations=\"/home/anamaria/code/nusero92/cryptocurency/Data/PPEA2023048.pdf\"\n",
    "reg_crypto_brics=\"/home/anamaria/code/nusero92/cryptocurency/Data/Cryptocurrency_regulation_in_the_BriCs_Countries_a.pdf\""
   ]
  },
  {
   "cell_type": "code",
   "execution_count": 32,
   "id": "385e9e66",
   "metadata": {},
   "outputs": [],
   "source": [
    "def extract_text_from_pdf(pdf_path):\n",
    "    with open(pdf_path, 'rb') as file:\n",
    "        reader = PyPDF2.PdfReader(file)\n",
    "        text = ''\n",
    "        for page in reader.pages:\n",
    "            text += page.extract_text() if page.extract_text() else ''\n",
    "        return text"
   ]
  },
  {
   "cell_type": "code",
   "execution_count": 33,
   "id": "8ea8c48e",
   "metadata": {},
   "outputs": [],
   "source": [
    "pdf_reg_pwc_global = extract_text_from_pdf(reg_pwc_global)"
   ]
  },
  {
   "cell_type": "code",
   "execution_count": 34,
   "id": "cf7ef81e",
   "metadata": {},
   "outputs": [],
   "source": [
    "pdf_cbdc_initial_considerations=extract_text_from_pdf(cbdc_initial_considerations)"
   ]
  },
  {
   "cell_type": "code",
   "execution_count": 35,
   "id": "ff868946",
   "metadata": {},
   "outputs": [],
   "source": [
    "pdf_reg_crypto_brics=extract_text_from_pdf(reg_crypto_brics)"
   ]
  },
  {
   "cell_type": "markdown",
   "id": "cc60d1c1",
   "metadata": {},
   "source": [
    "##### INDIA"
   ]
  },
  {
   "cell_type": "markdown",
   "id": "984f8cb4",
   "metadata": {},
   "source": [
    "india:https://www.globallegalinsights.com/practice-areas/blockchain-laws-and-regulations/india\n",
    "https://www.livemint.com/money/personal-finance/a-timeline-of-crypto-regulations-from-illegal-tender-to-g20-leaders-green-signal-11697308879694.html\n"
   ]
  },
  {
   "cell_type": "code",
   "execution_count": 36,
   "id": "86d3a45e",
   "metadata": {},
   "outputs": [],
   "source": [
    "# List of URLs of the PDFs for India\n",
    "pdf_urls_india = [\n",
    "    'https://www.cert-in.org.in/PDF/CERT-In_Directions_70B_28.04.2022.pdf',\n",
    "    'https://rbidocs.rbi.org.in/rdocs/PublicationReport/Pdfs/ENABLING79D8EBD31FED47A0BE21158C337123BF.PDF',\n",
    "    'https://main.sci.gov.in/supremecourt/2018/19230/19230_2018_4_1501_21151_Judgement_04-Mar-2020.pdf'\n",
    "    # Add more URLs here\n",
    "]"
   ]
  },
  {
   "cell_type": "code",
   "execution_count": 37,
   "id": "2109f240",
   "metadata": {},
   "outputs": [],
   "source": [
    "# Directory to save downloaded PDFs\n",
    "download_dir_india = 'downloaded_pdfs_india'\n",
    "\n",
    "# Ensure the download directory exists\n",
    "os.makedirs(download_dir_india, exist_ok=True)"
   ]
  },
  {
   "cell_type": "code",
   "execution_count": 38,
   "id": "610cac99",
   "metadata": {},
   "outputs": [],
   "source": [
    "def download_pdf(url, filename):\n",
    "    response = requests.get(url)\n",
    "    response.raise_for_status()  # Ensure the download was successful\n",
    "\n",
    "    with open(filename, 'wb') as f:\n",
    "        f.write(response.content)\n"
   ]
  },
  {
   "cell_type": "code",
   "execution_count": 39,
   "id": "51474f13",
   "metadata": {},
   "outputs": [],
   "source": [
    "def extract_text_from_pdf_with_pdfminer(pdf_path):\n",
    "    text = extract_text(pdf_path)\n",
    "    return text"
   ]
  },
  {
   "cell_type": "code",
   "execution_count": 40,
   "id": "4f9af7fd",
   "metadata": {},
   "outputs": [
    {
     "data": {
      "application/vnd.jupyter.widget-view+json": {
       "model_id": "57efefd8fc644a978f2436dda46bba95",
       "version_major": 2,
       "version_minor": 0
      },
      "text/plain": [
       "Downloading and Extracting PDFs:   0%|          | 0/3 [00:00<?, ?it/s]"
      ]
     },
     "metadata": {},
     "output_type": "display_data"
    },
    {
     "name": "stderr",
     "output_type": "stream",
     "text": [
      "2023-12-26 18:29:10,268 - INFO - Downloading PDF from https://www.cert-in.org.in/PDF/CERT-In_Directions_70B_28.04.2022.pdf\n",
      "2023-12-26 18:29:12,071 - INFO - Extracting text from downloaded_pdfs_india/CERT-In_Directions_70B_28.04.2022.pdf\n",
      "2023-12-26 18:29:12,596 - INFO - Text extraction complete for downloaded_pdfs_india/CERT-In_Directions_70B_28.04.2022.pdf\n",
      "2023-12-26 18:29:12,598 - INFO - Downloading PDF from https://rbidocs.rbi.org.in/rdocs/PublicationReport/Pdfs/ENABLING79D8EBD31FED47A0BE21158C337123BF.PDF\n"
     ]
    },
    {
     "name": "stdout",
     "output_type": "stream",
     "text": [
      "No. 20(3)/2022-CERT-In \n",
      "Government of India \n",
      "Ministry of Electronics and Information Technology (MeitY) \n",
      "Indian Computer Emergency Response Team (CERT-In) \n",
      "\n",
      "Electronics Niketan, \n",
      "6 CGO Complex, \n",
      " New Delhi-110003 \n",
      "\n",
      "Dated: 28 April, 2022 \n",
      "\n",
      "Subject: Directions under sub-section (6) of section 70B of the Information \n",
      "Technology  Act,  2000  relating  to  information  security  practices, \n",
      "procedure, prevention, response and reporting of cyber incidents \n",
      "for Safe & Trusted Internet.  \n",
      "\n",
      "Whereas, the \n"
     ]
    },
    {
     "name": "stderr",
     "output_type": "stream",
     "text": [
      "2023-12-26 18:29:17,585 - INFO - Extracting text from downloaded_pdfs_india/ENABLING79D8EBD31FED47A0BE21158C337123BF.PDF\n",
      "2023-12-26 18:29:18,532 - INFO - Text extraction complete for downloaded_pdfs_india/ENABLING79D8EBD31FED47A0BE21158C337123BF.PDF\n",
      "2023-12-26 18:29:18,534 - INFO - Downloading PDF from https://main.sci.gov.in/supremecourt/2018/19230/19230_2018_4_1501_21151_Judgement_04-Mar-2020.pdf\n"
     ]
    },
    {
     "name": "stdout",
     "output_type": "stream",
     "text": [
      "                                        Department of Banking Regulation \n",
      "\n",
      "   Banking Policy Division \n",
      "\n",
      " Enabling Framework for Regulatory Sandbox \n",
      "\n",
      "Contents \n",
      "\n",
      "1.  Background \n",
      "\n",
      "2.  The Regulatory Sandbox: Principles and Objectives  \n",
      "\n",
      "3.  Regulatory Sandbox: Benefits  \n",
      "\n",
      "4.  Regulatory Sandbox: Risks and Limitations \n",
      "\n",
      "5.  Regulatory Sandbox: Eligibility Criteria  \n",
      "\n",
      "6.  Design Aspects of the Regulatory Sandbox \n",
      "\n",
      "7.  The Regulatory Sandbox Process and its Stages \n",
      "\n",
      "8.  Statutory and Legal Issues     \n"
     ]
    },
    {
     "name": "stderr",
     "output_type": "stream",
     "text": [
      "2023-12-26 18:30:54,972 - INFO - Extracting text from downloaded_pdfs_india/19230_2018_4_1501_21151_Judgement_04-Mar-2020.pdf\n",
      "2023-12-26 18:31:25,284 - INFO - Text extraction complete for downloaded_pdfs_india/19230_2018_4_1501_21151_Judgement_04-Mar-2020.pdf\n"
     ]
    },
    {
     "name": "stdout",
     "output_type": "stream",
     "text": [
      "REPORTABLE \n",
      "\n",
      "IN THE SUPREME COURT OF INDIA \n",
      "CIVIL ORIGINAL JURISDICTION \n",
      "\n",
      "Writ Petition (Civil) No.528 of 2018 \n",
      "\n",
      "INTERNET AND MOBILE ASSOCIATION  \n",
      "OF INDIA  \n",
      "\n",
      "…. Petitioner   \n",
      "\n",
      "Versus \n",
      "\n",
      "RESERVE BANK OF INDIA \n",
      "\n",
      "... Respondent \n",
      "\n",
      "WITH \n",
      "\n",
      "Writ Petition (Civil) No.373 of 2018 \n",
      "\n",
      "J U D G M E N T \n",
      "\n",
      "V. Ramasubramanian, J. \n",
      "\n",
      "1. THE STORY LINE:  \n",
      "\n",
      "1.1.  Reserve  Bank  of  India  (hereinafter,  “RBI”)  issued  a \n",
      "\n",
      "“Statement  on  Developmental  and  Regulatory  Policies”  on  April \n",
      "\n",
      "5, 2018, paragraph 13 of\n"
     ]
    }
   ],
   "source": [
    "# Process each URL\n",
    "from tqdm.notebook import tqdm\n",
    "\n",
    "# Assuming pdf_urls_india is a list of URLs and download_dir_india is defined\n",
    "for url in tqdm(pdf_urls_india, desc=\"Downloading and Extracting PDFs\"):\n",
    "    try:\n",
    "        filename = os.path.join(download_dir_india, url.split('/')[-1])\n",
    "        logging.info(f\"Downloading PDF from {url}\")\n",
    "        download_pdf(url, filename)\n",
    "        \n",
    "        logging.info(f\"Extracting text from {filename}\")\n",
    "        text_india = extract_text_from_pdf_with_pdfminer(filename)\n",
    "        \n",
    "        logging.info(f\"Text extraction complete for {filename}\")\n",
    "        print(text_india[:500])  # Print first 500 characters for brevity\n",
    "    except Exception as e:\n",
    "        logging.error(f\"Error processing {filename}: {e}\")\n"
   ]
  },
  {
   "cell_type": "markdown",
   "id": "8afa9fc4",
   "metadata": {},
   "source": [
    "##### RUSSIA"
   ]
  },
  {
   "cell_type": "markdown",
   "id": "07a69128",
   "metadata": {},
   "source": [
    "russia: https://www.cbr.ru/Content/Document/File/132242/Consultation_Paper_20012022_eng.pdf\n",
    "\n",
    "https://www.investopedia.com/terms/c/cryptoruble.asp"
   ]
  },
  {
   "cell_type": "code",
   "execution_count": 41,
   "id": "1de25e1f",
   "metadata": {},
   "outputs": [],
   "source": [
    "pdf_urls_russia = [\n",
    "    'https://www.cbr.ru/Content/Document/File/132242/Consultation_Paper_20012022_eng.pdf',\n",
    "    # Add more URLs here\n",
    "]"
   ]
  },
  {
   "cell_type": "code",
   "execution_count": 42,
   "id": "f57aa5af",
   "metadata": {},
   "outputs": [],
   "source": [
    "# Directory to save downloaded PDFs\n",
    "download_dir_russia = 'downloaded_pdfs_russia'\n",
    "\n",
    "# Ensure the download directory exists\n",
    "os.makedirs(download_dir_russia, exist_ok=True)"
   ]
  },
  {
   "cell_type": "code",
   "execution_count": 43,
   "id": "80256f04",
   "metadata": {},
   "outputs": [
    {
     "data": {
      "application/vnd.jupyter.widget-view+json": {
       "model_id": "790bbf9b4323476c8c309885c2d22f5f",
       "version_major": 2,
       "version_minor": 0
      },
      "text/plain": [
       "Downloading and Extracting PDFs:   0%|          | 0/1 [00:00<?, ?it/s]"
      ]
     },
     "metadata": {},
     "output_type": "display_data"
    },
    {
     "name": "stderr",
     "output_type": "stream",
     "text": [
      "2023-12-26 18:31:25,346 - INFO - Downloading PDF from https://www.cbr.ru/Content/Document/File/132242/Consultation_Paper_20012022_eng.pdf\n",
      "2023-12-26 18:31:26,432 - INFO - Extracting text from downloaded_pdfs_russia/Consultation_Paper_20012022_eng.pdf\n",
      "2023-12-26 18:31:32,556 - INFO - Text extraction complete for downloaded_pdfs_russia/Consultation_Paper_20012022_eng.pdf\n"
     ]
    },
    {
     "name": "stdout",
     "output_type": "stream",
     "text": [
      "REPORTABLE \n",
      "\n",
      "IN THE SUPREME COURT OF INDIA \n",
      "CIVIL ORIGINAL JURISDICTION \n",
      "\n",
      "Writ Petition (Civil) No.528 of 2018 \n",
      "\n",
      "INTERNET AND MOBILE ASSOCIATION  \n",
      "OF INDIA  \n",
      "\n",
      "…. Petitioner   \n",
      "\n",
      "Versus \n",
      "\n",
      "RESERVE BANK OF INDIA \n",
      "\n",
      "... Respondent \n",
      "\n",
      "WITH \n",
      "\n",
      "Writ Petition (Civil) No.373 of 2018 \n",
      "\n",
      "J U D G M E N T \n",
      "\n",
      "V. Ramasubramanian, J. \n",
      "\n",
      "1. THE STORY LINE:  \n",
      "\n",
      "1.1.  Reserve  Bank  of  India  (hereinafter,  “RBI”)  issued  a \n",
      "\n",
      "“Statement  on  Developmental  and  Regulatory  Policies”  on  April \n",
      "\n",
      "5, 2018, paragraph 13 of\n"
     ]
    }
   ],
   "source": [
    "for url in tqdm(pdf_urls_russia, desc=\"Downloading and Extracting PDFs\"):\n",
    "    try:\n",
    "        filename = os.path.join(download_dir_russia, url.split('/')[-1])\n",
    "        logging.info(f\"Downloading PDF from {url}\")\n",
    "        download_pdf(url, filename)\n",
    "        \n",
    "        logging.info(f\"Extracting text from {filename}\")\n",
    "        text_russia = extract_text_from_pdf_with_pdfminer(filename)\n",
    "        \n",
    "        logging.info(f\"Text extraction complete for {filename}\")\n",
    "        print(text_india[:500])  # Print first 500 characters for brevity\n",
    "    except Exception as e:\n",
    "        logging.error(f\"Error processing {filename}: {e}\")\n"
   ]
  },
  {
   "cell_type": "markdown",
   "id": "64fc2c1e",
   "metadata": {},
   "source": [
    "##### SOUTH AFRICA"
   ]
  },
  {
   "cell_type": "markdown",
   "id": "e9b8c7bf",
   "metadata": {},
   "source": [
    "south africa : https://www.bakermckenzie.com/-/media/files/insight/publications/2019/02/report_blockchainandcryptocurrencyreg_feb2019.pdf\n",
    "https://www.pulp.up.ac.za/edocman/journals/2021_PSLR/zakariya%20Adam%202.pdf"
   ]
  },
  {
   "cell_type": "code",
   "execution_count": 44,
   "id": "f8112590",
   "metadata": {},
   "outputs": [],
   "source": [
    "# URLs\n",
    "pdf_urls_sa = [\n",
    "    'https://www.pulp.up.ac.za/edocman/journals/2021_PSLR/zakariya%20Adam%202.pdf'\n",
    "    # Add more URLs here\n",
    "]\n",
    "\n",
    "# Directory to save downloaded PDFs\n",
    "download_dir_sa = 'downloaded_pdfs_sa'\n",
    "\n",
    "# Ensure the download directory exists\n",
    "os.makedirs(download_dir_sa, exist_ok=True)\n",
    "\n",
    "# Set up logging\n",
    "logging.basicConfig(level=logging.INFO, format='%(asctime)s - %(levelname)s - %(message)s')\n"
   ]
  },
  {
   "cell_type": "code",
   "execution_count": 45,
   "id": "6a75f45c",
   "metadata": {},
   "outputs": [
    {
     "data": {
      "application/vnd.jupyter.widget-view+json": {
       "model_id": "90e5d6115ebd4bf78d821e8a88a4ae66",
       "version_major": 2,
       "version_minor": 0
      },
      "text/plain": [
       "Extracting Text from PDFs:   0%|          | 0/2 [00:00<?, ?it/s]"
      ]
     },
     "metadata": {},
     "output_type": "display_data"
    },
    {
     "name": "stderr",
     "output_type": "stream",
     "text": [
      "2023-12-26 18:31:32,632 - INFO - Extracting text from downloaded_pdfs_sa/zakariya%20Adam%202.pdf\n",
      "2023-12-26 18:31:33,791 - INFO - Text extraction complete for zakariya%20Adam%202.pdf\n",
      "2023-12-26 18:31:33,794 - INFO - Extracting text from downloaded_pdfs_sa/report_blockchainandcryptocurrencyreg_feb2019.pdf\n"
     ]
    },
    {
     "name": "stdout",
     "output_type": "stream",
     "text": [
      "AN OVERVIEW OF THE REGULATION OF \n",
      "CRYPTOCURRENCY IN SOUTH AFRICA\n",
      "https://doi.org/10.29053/pslr.v15i1.3676\n",
      "\n",
      "by Zakariya Adam*\n",
      "\n",
      "Abstract\n",
      "\n",
      "The increasing popularity of cryptocurrencies has raised many questions\n",
      "with regard to their regulation. Issues such as taxation and its role in\n",
      "criminal  activities  are  of  central  importance  to  the  way  in  which\n",
      "cryptocurrency will continue to develop and occupy space in society. In\n",
      "this  paper,  such  regulatory  aspects  are  explored,  and  South  Af\n"
     ]
    },
    {
     "name": "stderr",
     "output_type": "stream",
     "text": [
      "2023-12-26 18:31:35,890 - INFO - Text extraction complete for report_blockchainandcryptocurrencyreg_feb2019.pdf\n"
     ]
    },
    {
     "name": "stdout",
     "output_type": "stream",
     "text": [
      "Blockchain and Cryptocurrency in Africa\n",
      "\n",
      "A comparative summary of the reception and regulation of Blockchain  \n",
      "and Cryptocurrency in Africa\n",
      "\n",
      "2018 Baker McKenzie, Johannesburg\n",
      "\n",
      "\f",
      "IMPORTANT DISCLAIMER:  \n",
      "The material in this report is of the nature of general comment only. It is not offered as legal \n",
      "advice on any specific issue or matter and should not be taken as such. Readers should refrain \n",
      "from acting on the basis of any discussion contained in this report without obtaining specific \n",
      "legal adv\n"
     ]
    }
   ],
   "source": [
    "# Directory where the downloaded PDFs are stored\n",
    "download_dir_sa = 'downloaded_pdfs_sa'\n",
    "\n",
    "# Function to extract text from a PDF using PDFMiner\n",
    "def extract_text_from_pdf_with_pdfminer(pdf_path):\n",
    "    try:\n",
    "        text = extract_text(pdf_path)\n",
    "        return text\n",
    "    except Exception as e:\n",
    "        logging.error(f\"Error extracting text from {pdf_path}: {e}\")\n",
    "        return None\n",
    "\n",
    "# Get a list of PDF filenames from the download directory\n",
    "pdf_filenames = [f for f in os.listdir(download_dir_sa) if f.endswith('.pdf')]\n",
    "\n",
    "# Process each PDF file\n",
    "for filename in tqdm(pdf_filenames, desc=\"Extracting Text from PDFs\"):\n",
    "    full_path = os.path.join(download_dir_sa, filename)\n",
    "    logging.info(f\"Extracting text from {full_path}\")\n",
    "    text_sa = extract_text_from_pdf_with_pdfminer(full_path)\n",
    "    \n",
    "    if text_sa:\n",
    "        logging.info(f\"Text extraction complete for {filename}\")\n",
    "        print(text_sa[:500])  # Print first 500 characters for brevity\n",
    "    else:\n",
    "        logging.info(f\"No text extracted from {filename}\")"
   ]
  },
  {
   "cell_type": "code",
   "execution_count": null,
   "id": "9fe04d4f",
   "metadata": {},
   "outputs": [],
   "source": []
  },
  {
   "cell_type": "markdown",
   "id": "ee1280f1",
   "metadata": {},
   "source": [
    "#### CHINA"
   ]
  },
  {
   "cell_type": "markdown",
   "id": "3e8f49a1",
   "metadata": {},
   "source": [
    "china: https://www.tribunajuridica.eu/arhiva/An12v2/2.%20Xu,%20Jin.pdf\n",
    "https://markets.businessinsider.com/news/currencies/china-crypto-crackdown-timeline-regulatory-bitcoin-ether-solana-dogecoin-bans-2021-9"
   ]
  },
  {
   "cell_type": "code",
   "execution_count": 46,
   "id": "cb228b5a",
   "metadata": {},
   "outputs": [
    {
     "data": {
      "application/vnd.jupyter.widget-view+json": {
       "model_id": "237c0dc74d274b549e2ebdad769fa586",
       "version_major": 2,
       "version_minor": 0
      },
      "text/plain": [
       "Downloading and Extracting PDFs:   0%|          | 0/1 [00:00<?, ?it/s]"
      ]
     },
     "metadata": {},
     "output_type": "display_data"
    },
    {
     "name": "stderr",
     "output_type": "stream",
     "text": [
      "2023-12-26 18:31:35,941 - INFO - Downloading PDF from https://www.tribunajuridica.eu/arhiva/An12v2/2.%20Xu,%20Jin.pdf\n"
     ]
    }
   ],
   "source": [
    "# Assuming download_pdf and extract_text_from_pdf_with_pdfminer functions are already defined\n",
    "\n",
    "# URLs for China PDFs\n",
    "pdf_urls_china = [\n",
    "    'https://www.tribunajuridica.eu/arhiva/An12v2/2.%20Xu,%20Jin.pdf'\n",
    "    # Add more URLs here\n",
    "]\n",
    "\n",
    "# Directory to save downloaded PDFs for China\n",
    "download_dir_china = 'downloaded_pdfs_china'\n",
    "\n",
    "# Ensure the download directory exists\n",
    "os.makedirs(download_dir_china, exist_ok=True)\n",
    "\n",
    "# Set up logging\n",
    "logging.basicConfig(level=logging.INFO, format='%(asctime)s - %(levelname)s - %(message)s')\n",
    "\n",
    "# Loop for downloading and extracting text from PDFs\n",
    "for url in tqdm(pdf_urls_china, desc=\"Downloading and Extracting PDFs\"):\n",
    "    try:\n",
    "        filename = os.path.join(download_dir_china, url.split('/')[-1])\n",
    "        logging.info(f\"Downloading PDF from {url}\")\n",
    "        if download_pdf(url, filename):\n",
    "            logging.info(f\"Extracting text from {filename}\")\n",
    "            text_china = extract_text_from_pdf_with_pdfminer(filename)\n",
    "            \n",
    "            if text_china:\n",
    "                logging.info(f\"Text extraction complete for {filename}\")\n",
    "                print(text_china[:500])  # Print first 500 characters for brevity\n",
    "            else:\n",
    "                logging.info(f\"No text extracted from {filename}\")\n",
    "    except Exception as e:\n",
    "        logging.error(f\"Error processing {filename}: {e}\")\n"
   ]
  },
  {
   "cell_type": "markdown",
   "id": "476aa9e1",
   "metadata": {},
   "source": [
    "##### BRAZIL"
   ]
  },
  {
   "cell_type": "markdown",
   "id": "0947f504",
   "metadata": {},
   "source": [
    "brazil:https://cgmlaw.com.br/wp-content/uploads/2021/12/GLI-Blockchain-_-Cryptocurrency-Regulation_2020_Brazil-1.pdf\n",
    "https://www.globallegalinsights.com/practice-areas/blockchain-laws-and-regulations/brazil\n",
    "https://abcripto.com.br/wp-content/uploads/2023/10/crypto-in-brazil-2023-full-report.pdf\n",
    "https://chambers.com/legal-trends/virtual-currency-regulation-in-brazil"
   ]
  },
  {
   "cell_type": "code",
   "execution_count": 51,
   "id": "d9e00537",
   "metadata": {},
   "outputs": [
    {
     "data": {
      "application/vnd.jupyter.widget-view+json": {
       "model_id": "1156db1d6cb348cd9960d3e50e4c0ff1",
       "version_major": 2,
       "version_minor": 0
      },
      "text/plain": [
       "Downloading and Extracting PDFs:   0%|          | 0/5 [00:00<?, ?it/s]"
      ]
     },
     "metadata": {},
     "output_type": "display_data"
    },
    {
     "name": "stderr",
     "output_type": "stream",
     "text": [
      "2023-12-26 19:03:25,857 - INFO - Downloading PDF from https://www.bcb.gov.br/pom/spb/ing/Communique_25306.pdf\n",
      "2023-12-26 19:03:26,117 - INFO - Downloading PDF from https://www.bcb.gov.br/pom/spb/ing/Communique_31379.pdf\n",
      "2023-12-26 19:03:26,309 - INFO - Downloading PDF from https://www.bcb.gov.br/content/config/Documents/Regulatory_Sandbox_Regulation_CMN_Resolution_No_4865_2020.pdf\n",
      "2023-12-26 19:03:26,612 - INFO - Downloading PDF from https://abcripto.com.br/wp-content/uploads/2023/10/crypto-in-brazil-2023-full-report.pdf\n",
      "2023-12-26 19:03:29,658 - INFO - Downloading PDF from https://www.gov.br/mcti/pt-br/centrais-de-conteudo/comunicados-mcti/estrategia-digital-brasileira/digitalstrategy.pdf\n"
     ]
    }
   ],
   "source": [
    "# Assuming download_pdf and extract_text_from_pdf_with_pdfminer functions are already defined\n",
    "\n",
    "# URLs for China PDFs\n",
    "pdf_urls_brazil = [\n",
    "    'https://www.bcb.gov.br/pom/spb/ing/Communique_25306.pdf',\n",
    "    'https://www.bcb.gov.br/pom/spb/ing/Communique_31379.pdf',\n",
    "    'https://www.bcb.gov.br/content/config/Documents/Regulatory_Sandbox_Regulation_CMN_Resolution_No_4865_2020.pdf',\n",
    "    'https://abcripto.com.br/wp-content/uploads/2023/10/crypto-in-brazil-2023-full-report.pdf',\n",
    "    'https://www.gov.br/mcti/pt-br/centrais-de-conteudo/comunicados-mcti/estrategia-digital-brasileira/digitalstrategy.pdf'\n",
    "    # Add more URLs here\n",
    "]\n",
    "\n",
    "# Directory to save downloaded PDFs for China\n",
    "download_dir_brazil = 'downloaded_pdfs_brazil'\n",
    "\n",
    "# Ensure the download directory exists\n",
    "os.makedirs(download_dir_brazil, exist_ok=True)\n",
    "\n",
    "# Set up logging\n",
    "logging.basicConfig(level=logging.INFO, format='%(asctime)s - %(levelname)s - %(message)s')\n",
    "\n",
    "# Loop for downloading and extracting text from PDFs\n",
    "for url in tqdm(pdf_urls_brazil, desc=\"Downloading and Extracting PDFs\"):\n",
    "    try:\n",
    "        filename = os.path.join(download_dir_brazil, url.split('/')[-1])\n",
    "        logging.info(f\"Downloading PDF from {url}\")\n",
    "        if download_pdf(url, filename):\n",
    "            logging.info(f\"Extracting text from {filename}\")\n",
    "            text_brazil = extract_text_from_pdf_with_pdfminer(filename)\n",
    "            \n",
    "            if text_brazil:\n",
    "                logging.info(f\"Text extraction complete for {filename}\")\n",
    "                print(text_brazil[:500])  # Print first 500 characters for brevity\n",
    "            else:\n",
    "                logging.info(f\"No text extracted from {filename}\")\n",
    "    except Exception as e:\n",
    "        logging.error(f\"Error processing {filename}: {e}\")"
   ]
  },
  {
   "cell_type": "code",
   "execution_count": 48,
   "id": "64fd7ca9",
   "metadata": {},
   "outputs": [
    {
     "data": {
      "application/vnd.jupyter.widget-view+json": {
       "model_id": "fc6ec563f60d4ec58054d51a2bdc87a0",
       "version_major": 2,
       "version_minor": 0
      },
      "text/plain": [
       "Extracting Text from PDFs:   0%|          | 0/1 [00:00<?, ?it/s]"
      ]
     },
     "metadata": {},
     "output_type": "display_data"
    },
    {
     "name": "stderr",
     "output_type": "stream",
     "text": [
      "2023-12-26 18:31:54,132 - INFO - Extracting text from downloaded_pdfs_brazil/GLI-Blockchain-_-Cryptocurrency-Regulation_2020_Brazil-1.pdf\n",
      "2023-12-26 18:31:54,885 - INFO - Text extraction complete for GLI-Blockchain-_-Cryptocurrency-Regulation_2020_Brazil-1.pdf\n"
     ]
    },
    {
     "name": "stdout",
     "output_type": "stream",
     "text": [
      "\f",
      "Preface\n",
      "\n",
      "Foreword\n",
      "\n",
      "Glossary\n",
      "\n",
      "Industry\n",
      "\n",
      "CONTENTS  \n",
      "\n",
      "Josias N. Dewey, Holland & Knight LLP \n",
      "\n",
      "Aaron Wright, Enterprise Ethereum Alliance \n",
      "\n",
      "The Editor shares key concepts and definitions of blockchain \n",
      "\n",
      "Promoting innovation through education: The blockchain industry, \n",
      "law enforcement and regulators work towards a common goal \n",
      "Jason Weinstein & Alan Cohn, The Blockchain Alliance\n",
      "\n",
      "The loan market, blockchain, and smart contracts: The potential \n",
      "for transformative change \n",
      "Bridget Marsh, LSTA & Josias \n"
     ]
    }
   ],
   "source": [
    "# Get a list of PDF filenames from the download directory\n",
    "pdf_filenames = [f for f in os.listdir(download_dir_brazil) if f.endswith('Cryptocurrency-Regulation_2020_Brazil-1.pdf')]\n",
    "\n",
    "# Process each PDF file\n",
    "for filename in tqdm(pdf_filenames, desc=\"Extracting Text from PDFs\"):\n",
    "    full_path = os.path.join(download_dir_brazil, filename)\n",
    "    logging.info(f\"Extracting text from {full_path}\")\n",
    "    text_brazil_20 = extract_text_from_pdf_with_pdfminer(full_path)\n",
    "    \n",
    "    if text_brazil_20:\n",
    "        logging.info(f\"Text extraction complete for {filename}\")\n",
    "        print(text_brazil_20[:500])  # Print first 500 characters for brevity\n",
    "    else:\n",
    "        logging.info(f\"No text extracted from {filename}\")"
   ]
  },
  {
   "cell_type": "code",
   "execution_count": null,
   "id": "f401988c",
   "metadata": {},
   "outputs": [],
   "source": []
  },
  {
   "cell_type": "code",
   "execution_count": null,
   "id": "930acd8c",
   "metadata": {},
   "outputs": [],
   "source": []
  },
  {
   "cell_type": "code",
   "execution_count": null,
   "id": "0cad37e5",
   "metadata": {},
   "outputs": [],
   "source": []
  },
  {
   "cell_type": "markdown",
   "id": "0b7c96ee",
   "metadata": {},
   "source": [
    "#### Digital economy policies"
   ]
  },
  {
   "cell_type": "markdown",
   "id": "4efeb548",
   "metadata": {},
   "source": [
    "https://www.oecd-ilibrary.org/sites/bb167041-en/1/3/2/index.html?itemId=/content/publication/bb167041-en&_csp_=509e10cb8ea8559b6f9cc53015e8814d&itemIGO=oecd&itemContentType=book#section-16"
   ]
  },
  {
   "cell_type": "markdown",
   "id": "66fef134",
   "metadata": {},
   "source": [
    "brazil: https://www.itu.int/dms_pub/itu-d/opb/pref/D-PREF-THEM.31-2023-PDF-E.pdf\n",
    "https://www.gov.br/mcti/pt-br/centrais-de-conteudo/comunicados-mcti/estrategia-digital-brasileira/digitalstrategy.pdf"
   ]
  },
  {
   "cell_type": "markdown",
   "id": "70f988f1",
   "metadata": {},
   "source": [
    "china:https://www.amchamchina.org/navigating-chinas-digital-economy-policy-landscape-a-review-of-key-initiatives/#:~:text=Policy%20Highlights%3A%20On%20February%2027,emphasizes%20digital%20infrastructure%2C%20data%20resources%2C\n",
    "file:///C:/Users/anama/Downloads/wp1916.pdf\n",
    "https://unctad.org/system/files/official-document/BRI-Project_RP3_en.pdf"
   ]
  },
  {
   "cell_type": "markdown",
   "id": "822b5e81",
   "metadata": {},
   "source": [
    "#### Central bank statments"
   ]
  },
  {
   "cell_type": "markdown",
   "id": "5ffc1b3a",
   "metadata": {},
   "source": [
    "### Technological Infrastructure\n",
    "\n",
    "Data Sources: IT industry reports, government tech reports, global technology indexes.\n",
    "\n",
    "Data Points: Internet penetration rates, digital literacy levels, existing blockchain initiatives.\n",
    "\n",
    "Purpose: To evaluate the technological readiness of each nation for adopting and supporting a digital currency."
   ]
  },
  {
   "cell_type": "markdown",
   "id": "254b5d81",
   "metadata": {},
   "source": [
    "#### Internet penetration rates"
   ]
  },
  {
   "cell_type": "markdown",
   "id": "e0f23960",
   "metadata": {},
   "source": [
    "#### Digital literacy levels"
   ]
  },
  {
   "cell_type": "markdown",
   "id": "8f7b0242",
   "metadata": {},
   "source": [
    "#### Existing blockchain initiatives"
   ]
  },
  {
   "cell_type": "markdown",
   "id": "28202cde",
   "metadata": {},
   "source": [
    "### Public Sentiment and Awareness\n",
    "\n",
    "Data Sources: Social media platforms, news outlets, public surveys.\n",
    "\n",
    "Data Points: Public opinion on cryptocurrencies, awareness levels, perceived trust in digital currencies.\n",
    "\n",
    "Purpose: To gauge the public's readiness and willingness to accept a new form of currency."
   ]
  },
  {
   "cell_type": "markdown",
   "id": "fe141bdb",
   "metadata": {},
   "source": [
    "### Historical Cryptocurrency Data\n",
    "\n",
    "Data Sources: Cryptocurrency exchanges, financial news websites.\n",
    "\n",
    "Data Points: Cryptocurrency prices, trading volumes, market capitalization.\n",
    "\n",
    "Purpose: To understand the existing cryptocurrency market dynamics and how they are perceived or utilized in BRICS nations."
   ]
  },
  {
   "cell_type": "markdown",
   "id": "c676d545",
   "metadata": {},
   "source": [
    "#### Cryptocurrency prices"
   ]
  },
  {
   "cell_type": "markdown",
   "id": "4082ac56",
   "metadata": {},
   "source": [
    "#### Traiding volumes"
   ]
  },
  {
   "cell_type": "markdown",
   "id": "1554736e",
   "metadata": {},
   "source": [
    "#### Market capitalization"
   ]
  },
  {
   "cell_type": "markdown",
   "id": "a9609f4e",
   "metadata": {},
   "source": []
  },
  {
   "cell_type": "markdown",
   "id": "4404164e",
   "metadata": {},
   "source": [
    "### International Trade and Relations\n",
    "\n",
    "Data Sources: Trade statistics, international relations research.\n",
    "\n",
    "Data Points: Trade volumes among BRICS, dependency on the US dollar, existing trade agreements.\n",
    "\n",
    "Purpose: To explore how intra-BRICS trade and international relations might influence a collective move towards cryptocurrency."
   ]
  },
  {
   "cell_type": "markdown",
   "id": "7e738091",
   "metadata": {},
   "source": [
    "#### Trade volumes among BRICS"
   ]
  },
  {
   "cell_type": "markdown",
   "id": "ff20b4ce",
   "metadata": {},
   "source": [
    "#### Dependecy on US dollar"
   ]
  },
  {
   "cell_type": "markdown",
   "id": "2780df53",
   "metadata": {},
   "source": [
    "#### Existing trade agreements"
   ]
  },
  {
   "cell_type": "markdown",
   "id": "f141466d",
   "metadata": {},
   "source": [
    "## Data preprocessing"
   ]
  },
  {
   "cell_type": "markdown",
   "id": "df77a3cc",
   "metadata": {},
   "source": [
    "## Exploratory Data Analysis"
   ]
  },
  {
   "cell_type": "markdown",
   "id": "5ac4f9b2",
   "metadata": {},
   "source": [
    "## Model development"
   ]
  },
  {
   "cell_type": "markdown",
   "id": "ea8cc745",
   "metadata": {},
   "source": [
    "## Model evaluation"
   ]
  },
  {
   "cell_type": "markdown",
   "id": "89a419bd",
   "metadata": {},
   "source": [
    "## Interpretation and reporting"
   ]
  },
  {
   "cell_type": "markdown",
   "id": "dc973f8f",
   "metadata": {},
   "source": [
    "## Deployment and Monitoring"
   ]
  },
  {
   "cell_type": "markdown",
   "id": "511dc039",
   "metadata": {},
   "source": []
  }
 ],
 "metadata": {
  "kernelspec": {
   "display_name": "Python 3 (ipykernel)",
   "language": "python",
   "name": "python3"
  },
  "language_info": {
   "codemirror_mode": {
    "name": "ipython",
    "version": 3
   },
   "file_extension": ".py",
   "mimetype": "text/x-python",
   "name": "python",
   "nbconvert_exporter": "python",
   "pygments_lexer": "ipython3",
   "version": "3.10.6"
  },
  "toc": {
   "base_numbering": 1,
   "nav_menu": {},
   "number_sections": true,
   "sideBar": true,
   "skip_h1_title": false,
   "title_cell": "Table of Contents",
   "title_sidebar": "Contents",
   "toc_cell": false,
   "toc_position": {},
   "toc_section_display": true,
   "toc_window_display": false
  }
 },
 "nbformat": 4,
 "nbformat_minor": 5
}
